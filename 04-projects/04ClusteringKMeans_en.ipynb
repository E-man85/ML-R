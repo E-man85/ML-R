{
 "cells": [
  {
   "cell_type": "markdown",
   "metadata": {},
   "source": [
    "## Clustering exercise by K-means"
   ]
  },
  {
   "cell_type": "markdown",
   "metadata": {},
   "source": [
    "Considering the UCI Machine Learning “Wholesale Customer Dataset”\n",
    "\n",
    "Repository at https://archive.ics.uci.edu/ml/datasets/wholesale+customers\n",
    "\n",
    "This dataset refers to customers of a wholesale distributor in Portugal.\n",
    "\n",
    "Includes annual spending in monetary units (m.u.) across several product categories:\n",
    "\n",
    "Fresh, Milk, Groceries, Frozen, Detergentes_Paper, Delicatessen.\n",
    "\n",
    "It also includes 2 categorical variables: Channel (Horeca, Retail) and Region (Lisbon, Porto, Other).\n",
    "\n",
    "Tasks:\n",
    "- Segment clients in an appropriate number of clusters, using the K-means algorithm."
   ]
  },
  {
   "cell_type": "markdown",
   "metadata": {},
   "source": [
    "## Load Libraries"
   ]
  },
  {
   "cell_type": "code",
   "execution_count": 1,
   "metadata": {
    "vscode": {
     "languageId": "r"
    }
   },
   "outputs": [
    {
     "name": "stderr",
     "output_type": "stream",
     "text": [
      "Warning message:\n",
      "\"package 'ggplot2' was built under R version 4.2.3\"\n",
      "Warning message:\n",
      "\"package 'factoextra' was built under R version 4.2.3\"\n",
      "Welcome! Want to learn more? See two factoextra-related books at https://goo.gl/ve3WBa\n",
      "\n",
      "Warning message:\n",
      "\"package 'dplyr' was built under R version 4.2.3\"\n",
      "\n",
      "Attaching package: 'dplyr'\n",
      "\n",
      "\n",
      "The following objects are masked from 'package:stats':\n",
      "\n",
      "    filter, lag\n",
      "\n",
      "\n",
      "The following objects are masked from 'package:base':\n",
      "\n",
      "    intersect, setdiff, setequal, union\n",
      "\n",
      "\n"
     ]
    }
   ],
   "source": [
    "# Clear data in environment\n",
    "rm(list = ls()) \n",
    "graphics.off()\n",
    "library(ggplot2)\n",
    "library(factoextra)\n",
    "library(dplyr)"
   ]
  },
  {
   "cell_type": "markdown",
   "metadata": {},
   "source": [
    "## Read dataset directly from UCI repository"
   ]
  },
  {
   "cell_type": "code",
   "execution_count": 2,
   "metadata": {
    "vscode": {
     "languageId": "r"
    }
   },
   "outputs": [],
   "source": [
    "url_path <- paste0(\"https://archive.ics.uci.edu/ml/machine-learning-databases/\",\n",
    "                   \"00292/Wholesale%20customers%20data.csv\")\n",
    "wholesale <- read.csv(url_path, sep = \",\")\n",
    "rm(url_path)"
   ]
  },
  {
   "cell_type": "markdown",
   "metadata": {},
   "source": [
    "## Prepare data for analysis"
   ]
  },
  {
   "cell_type": "code",
   "execution_count": 3,
   "metadata": {
    "vscode": {
     "languageId": "r"
    }
   },
   "outputs": [
    {
     "data": {
      "text/html": [
       "<table class=\"dataframe\">\n",
       "<caption>A data.frame: 6 × 6</caption>\n",
       "<thead>\n",
       "\t<tr><th></th><th scope=col>Fresh</th><th scope=col>Milk</th><th scope=col>Grocery</th><th scope=col>Frozen</th><th scope=col>Detergents_Paper</th><th scope=col>Delicassen</th></tr>\n",
       "\t<tr><th></th><th scope=col>&lt;int&gt;</th><th scope=col>&lt;int&gt;</th><th scope=col>&lt;int&gt;</th><th scope=col>&lt;int&gt;</th><th scope=col>&lt;int&gt;</th><th scope=col>&lt;int&gt;</th></tr>\n",
       "</thead>\n",
       "<tbody>\n",
       "\t<tr><th scope=row>1</th><td>12669</td><td>9656</td><td>7561</td><td> 214</td><td>2674</td><td>1338</td></tr>\n",
       "\t<tr><th scope=row>2</th><td> 7057</td><td>9810</td><td>9568</td><td>1762</td><td>3293</td><td>1776</td></tr>\n",
       "\t<tr><th scope=row>3</th><td> 6353</td><td>8808</td><td>7684</td><td>2405</td><td>3516</td><td>7844</td></tr>\n",
       "\t<tr><th scope=row>4</th><td>13265</td><td>1196</td><td>4221</td><td>6404</td><td> 507</td><td>1788</td></tr>\n",
       "\t<tr><th scope=row>5</th><td>22615</td><td>5410</td><td>7198</td><td>3915</td><td>1777</td><td>5185</td></tr>\n",
       "\t<tr><th scope=row>6</th><td> 9413</td><td>8259</td><td>5126</td><td> 666</td><td>1795</td><td>1451</td></tr>\n",
       "</tbody>\n",
       "</table>\n"
      ],
      "text/latex": [
       "A data.frame: 6 × 6\n",
       "\\begin{tabular}{r|llllll}\n",
       "  & Fresh & Milk & Grocery & Frozen & Detergents\\_Paper & Delicassen\\\\\n",
       "  & <int> & <int> & <int> & <int> & <int> & <int>\\\\\n",
       "\\hline\n",
       "\t1 & 12669 & 9656 & 7561 &  214 & 2674 & 1338\\\\\n",
       "\t2 &  7057 & 9810 & 9568 & 1762 & 3293 & 1776\\\\\n",
       "\t3 &  6353 & 8808 & 7684 & 2405 & 3516 & 7844\\\\\n",
       "\t4 & 13265 & 1196 & 4221 & 6404 &  507 & 1788\\\\\n",
       "\t5 & 22615 & 5410 & 7198 & 3915 & 1777 & 5185\\\\\n",
       "\t6 &  9413 & 8259 & 5126 &  666 & 1795 & 1451\\\\\n",
       "\\end{tabular}\n"
      ],
      "text/markdown": [
       "\n",
       "A data.frame: 6 × 6\n",
       "\n",
       "| <!--/--> | Fresh &lt;int&gt; | Milk &lt;int&gt; | Grocery &lt;int&gt; | Frozen &lt;int&gt; | Detergents_Paper &lt;int&gt; | Delicassen &lt;int&gt; |\n",
       "|---|---|---|---|---|---|---|\n",
       "| 1 | 12669 | 9656 | 7561 |  214 | 2674 | 1338 |\n",
       "| 2 |  7057 | 9810 | 9568 | 1762 | 3293 | 1776 |\n",
       "| 3 |  6353 | 8808 | 7684 | 2405 | 3516 | 7844 |\n",
       "| 4 | 13265 | 1196 | 4221 | 6404 |  507 | 1788 |\n",
       "| 5 | 22615 | 5410 | 7198 | 3915 | 1777 | 5185 |\n",
       "| 6 |  9413 | 8259 | 5126 |  666 | 1795 | 1451 |\n",
       "\n"
      ],
      "text/plain": [
       "  Fresh Milk Grocery Frozen Detergents_Paper Delicassen\n",
       "1 12669 9656 7561     214   2674             1338      \n",
       "2  7057 9810 9568    1762   3293             1776      \n",
       "3  6353 8808 7684    2405   3516             7844      \n",
       "4 13265 1196 4221    6404    507             1788      \n",
       "5 22615 5410 7198    3915   1777             5185      \n",
       "6  9413 8259 5126     666   1795             1451      "
      ]
     },
     "metadata": {},
     "output_type": "display_data"
    },
    {
     "data": {
      "text/html": [
       "<table class=\"dataframe\">\n",
       "<caption>A data.frame: 6 × 6</caption>\n",
       "<thead>\n",
       "\t<tr><th></th><th scope=col>Fresh</th><th scope=col>Milk</th><th scope=col>Grocery</th><th scope=col>Frozen</th><th scope=col>Detergents_Paper</th><th scope=col>Delicassen</th></tr>\n",
       "\t<tr><th></th><th scope=col>&lt;dbl&gt;</th><th scope=col>&lt;dbl&gt;</th><th scope=col>&lt;dbl&gt;</th><th scope=col>&lt;dbl&gt;</th><th scope=col>&lt;dbl&gt;</th><th scope=col>&lt;dbl&gt;</th></tr>\n",
       "</thead>\n",
       "<tbody>\n",
       "\t<tr><th scope=row>1</th><td> 0.05287300</td><td> 0.52297247</td><td>-0.04106815</td><td>-0.5886970</td><td>-0.04351919</td><td>-0.06626363</td></tr>\n",
       "\t<tr><th scope=row>2</th><td>-0.39085706</td><td> 0.54383861</td><td> 0.17012470</td><td>-0.2698290</td><td> 0.08630859</td><td> 0.08904969</td></tr>\n",
       "\t<tr><th scope=row>3</th><td>-0.44652098</td><td> 0.40807319</td><td>-0.02812509</td><td>-0.1373793</td><td> 0.13308016</td><td> 2.24074190</td></tr>\n",
       "\t<tr><th scope=row>4</th><td> 0.09999758</td><td>-0.62331041</td><td>-0.39253008</td><td> 0.6863630</td><td>-0.49802132</td><td> 0.09330484</td></tr>\n",
       "\t<tr><th scope=row>5</th><td> 0.83928412</td><td>-0.05233688</td><td>-0.07926595</td><td> 0.1736612</td><td>-0.23165413</td><td> 1.29786952</td></tr>\n",
       "\t<tr><th scope=row>6</th><td>-0.20457266</td><td> 0.33368675</td><td>-0.29729863</td><td>-0.4955909</td><td>-0.22787885</td><td>-0.02619421</td></tr>\n",
       "</tbody>\n",
       "</table>\n"
      ],
      "text/latex": [
       "A data.frame: 6 × 6\n",
       "\\begin{tabular}{r|llllll}\n",
       "  & Fresh & Milk & Grocery & Frozen & Detergents\\_Paper & Delicassen\\\\\n",
       "  & <dbl> & <dbl> & <dbl> & <dbl> & <dbl> & <dbl>\\\\\n",
       "\\hline\n",
       "\t1 &  0.05287300 &  0.52297247 & -0.04106815 & -0.5886970 & -0.04351919 & -0.06626363\\\\\n",
       "\t2 & -0.39085706 &  0.54383861 &  0.17012470 & -0.2698290 &  0.08630859 &  0.08904969\\\\\n",
       "\t3 & -0.44652098 &  0.40807319 & -0.02812509 & -0.1373793 &  0.13308016 &  2.24074190\\\\\n",
       "\t4 &  0.09999758 & -0.62331041 & -0.39253008 &  0.6863630 & -0.49802132 &  0.09330484\\\\\n",
       "\t5 &  0.83928412 & -0.05233688 & -0.07926595 &  0.1736612 & -0.23165413 &  1.29786952\\\\\n",
       "\t6 & -0.20457266 &  0.33368675 & -0.29729863 & -0.4955909 & -0.22787885 & -0.02619421\\\\\n",
       "\\end{tabular}\n"
      ],
      "text/markdown": [
       "\n",
       "A data.frame: 6 × 6\n",
       "\n",
       "| <!--/--> | Fresh &lt;dbl&gt; | Milk &lt;dbl&gt; | Grocery &lt;dbl&gt; | Frozen &lt;dbl&gt; | Detergents_Paper &lt;dbl&gt; | Delicassen &lt;dbl&gt; |\n",
       "|---|---|---|---|---|---|---|\n",
       "| 1 |  0.05287300 |  0.52297247 | -0.04106815 | -0.5886970 | -0.04351919 | -0.06626363 |\n",
       "| 2 | -0.39085706 |  0.54383861 |  0.17012470 | -0.2698290 |  0.08630859 |  0.08904969 |\n",
       "| 3 | -0.44652098 |  0.40807319 | -0.02812509 | -0.1373793 |  0.13308016 |  2.24074190 |\n",
       "| 4 |  0.09999758 | -0.62331041 | -0.39253008 |  0.6863630 | -0.49802132 |  0.09330484 |\n",
       "| 5 |  0.83928412 | -0.05233688 | -0.07926595 |  0.1736612 | -0.23165413 |  1.29786952 |\n",
       "| 6 | -0.20457266 |  0.33368675 | -0.29729863 | -0.4955909 | -0.22787885 | -0.02619421 |\n",
       "\n"
      ],
      "text/plain": [
       "  Fresh       Milk        Grocery     Frozen     Detergents_Paper Delicassen \n",
       "1  0.05287300  0.52297247 -0.04106815 -0.5886970 -0.04351919      -0.06626363\n",
       "2 -0.39085706  0.54383861  0.17012470 -0.2698290  0.08630859       0.08904969\n",
       "3 -0.44652098  0.40807319 -0.02812509 -0.1373793  0.13308016       2.24074190\n",
       "4  0.09999758 -0.62331041 -0.39253008  0.6863630 -0.49802132       0.09330484\n",
       "5  0.83928412 -0.05233688 -0.07926595  0.1736612 -0.23165413       1.29786952\n",
       "6 -0.20457266  0.33368675 -0.29729863 -0.4955909 -0.22787885      -0.02619421"
      ]
     },
     "metadata": {},
     "output_type": "display_data"
    },
    {
     "data": {
      "text/plain": [
       "     Fresh              Milk            Grocery            Frozen        \n",
       " Min.   :-0.9486   Min.   :-0.7779   Min.   :-0.8364   Min.   :-0.62763  \n",
       " 1st Qu.:-0.7015   1st Qu.:-0.5776   1st Qu.:-0.6101   1st Qu.:-0.47988  \n",
       " Median :-0.2764   Median :-0.2939   Median :-0.3363   Median :-0.31844  \n",
       " Mean   : 0.0000   Mean   : 0.0000   Mean   : 0.0000   Mean   : 0.00000  \n",
       " 3rd Qu.: 0.3901   3rd Qu.: 0.1889   3rd Qu.: 0.2846   3rd Qu.: 0.09935  \n",
       " Max.   : 7.9187   Max.   : 9.1732   Max.   : 8.9264   Max.   :11.90545  \n",
       " Detergents_Paper    Delicassen     \n",
       " Min.   :-0.6037   Min.   :-0.5396  \n",
       " 1st Qu.:-0.5505   1st Qu.:-0.3960  \n",
       " Median :-0.4331   Median :-0.1984  \n",
       " Mean   : 0.0000   Mean   : 0.0000  \n",
       " 3rd Qu.: 0.2182   3rd Qu.: 0.1047  \n",
       " Max.   : 7.9586   Max.   :16.4597  "
      ]
     },
     "metadata": {},
     "output_type": "display_data"
    },
    {
     "data": {
      "text/html": [
       "<style>\n",
       ".dl-inline {width: auto; margin:0; padding: 0}\n",
       ".dl-inline>dt, .dl-inline>dd {float: none; width: auto; display: inline-block}\n",
       ".dl-inline>dt::after {content: \":\\0020\"; padding-right: .5ex}\n",
       ".dl-inline>dt:not(:first-of-type) {padding-left: .5ex}\n",
       "</style><dl class=dl-inline><dt>Fresh</dt><dd>1</dd><dt>Milk</dt><dd>1</dd><dt>Grocery</dt><dd>1</dd><dt>Frozen</dt><dd>1</dd><dt>Detergents_Paper</dt><dd>1</dd><dt>Delicassen</dt><dd>1</dd></dl>\n"
      ],
      "text/latex": [
       "\\begin{description*}\n",
       "\\item[Fresh] 1\n",
       "\\item[Milk] 1\n",
       "\\item[Grocery] 1\n",
       "\\item[Frozen] 1\n",
       "\\item[Detergents\\textbackslash{}\\_Paper] 1\n",
       "\\item[Delicassen] 1\n",
       "\\end{description*}\n"
      ],
      "text/markdown": [
       "Fresh\n",
       ":   1Milk\n",
       ":   1Grocery\n",
       ":   1Frozen\n",
       ":   1Detergents_Paper\n",
       ":   1Delicassen\n",
       ":   1\n",
       "\n"
      ],
      "text/plain": [
       "           Fresh             Milk          Grocery           Frozen \n",
       "               1                1                1                1 \n",
       "Detergents_Paper       Delicassen \n",
       "               1                1 "
      ]
     },
     "metadata": {},
     "output_type": "display_data"
    }
   ],
   "source": [
    "# For this exercise, we’ll only use complete cases\n",
    "wholesale <- na.omit(wholesale) # Remove values not available or missing\n",
    "# Remove categorical variables and we will use numeric features only\n",
    "wholesale.num <- wholesale[, 3:8]\n",
    "head(wholesale.num)\n",
    "# As K-means calculates distances, we’ll standardize the numerical variables\n",
    "wholesale.std <- as.data.frame(scale(wholesale.num))\n",
    "head(wholesale.std)\n",
    "# Check the mean = 0 and standard deviation = 1, after standardization.\n",
    "summary(wholesale.std)\n",
    "sapply(wholesale.std, sd)"
   ]
  },
  {
   "cell_type": "markdown",
   "metadata": {},
   "source": [
    "## Choose the K parameter"
   ]
  },
  {
   "cell_type": "code",
   "execution_count": 4,
   "metadata": {
    "vscode": {
     "languageId": "r"
    }
   },
   "outputs": [
    {
     "data": {
      "image/png": "[encoded data removed]",
      "text/plain": [
       "plot without title"
      ]
     },
     "metadata": {
      "image/png": {
       "height": 480,
       "width": 960
      }
     },
     "output_type": "display_data"
    },
    {
     "data": {
      "image/png": "[encoded data removed]",
      "text/plain": [
       "plot without title"
      ]
     },
     "metadata": {
      "image/png": {
       "height": 480,
       "width": 960
      }
     },
     "output_type": "display_data"
    },
    {
     "data": {
      "image/png": "[encoded data removed]",
      "text/plain": [
       "plot without title"
      ]
     },
     "metadata": {
      "image/png": {
       "height": 480,
       "width": 960
      }
     },
     "output_type": "display_data"
    }
   ],
   "source": [
    "# Determine Number of Clusters “Elbow method”, for total within-cluster sum of square\n",
    "options(repr.plot.width=16, repr.plot.height=8)\n",
    "factoextra::fviz_nbclust(wholesale.std, kmeans, method = \"wss\")\n",
    "# “Silhouette-score method”, for how similar a data point is within-cluster\n",
    "factoextra::fviz_nbclust(wholesale.std, kmeans, method = \"silhouette\")\n",
    "# “Gap Statistic Method”\n",
    "factoextra::fviz_nbclust(wholesale.std, kmeans, method = \"gap_stat\")"
   ]
  },
  {
   "cell_type": "markdown",
   "metadata": {},
   "source": [
    "## Fit K-means model"
   ]
  },
  {
   "cell_type": "code",
   "execution_count": 5,
   "metadata": {
    "vscode": {
     "languageId": "r"
    }
   },
   "outputs": [],
   "source": [
    "# Define number of clusters\n",
    "k2_clusters <- 2\n",
    "# Perform k-means clustering on a data\n",
    "set.seed(222)\n",
    "fit.kmeans2 <- kmeans(wholesale.std,\n",
    "#number of clusters\n",
    "                     centers = k2_clusters,\n",
    "#how many random sets should be chosen\n",
    "                     nstart = 100,\n",
    "#the maximum number of iterations allowed\n",
    "                     iter.max = 100)"
   ]
  },
  {
   "cell_type": "markdown",
   "metadata": {},
   "source": [
    "## See various components"
   ]
  },
  {
   "cell_type": "code",
   "execution_count": 6,
   "metadata": {
    "vscode": {
     "languageId": "r"
    }
   },
   "outputs": [
    {
     "data": {
      "text/html": [
       "<style>\n",
       ".dl-inline {width: auto; margin:0; padding: 0}\n",
       ".dl-inline>dt, .dl-inline>dd {float: none; width: auto; display: inline-block}\n",
       ".dl-inline>dt::after {content: \":\\0020\"; padding-right: .5ex}\n",
       ".dl-inline>dt:not(:first-of-type) {padding-left: .5ex}\n",
       "</style><dl class=dl-inline><dt>1</dt><dd>2</dd><dt>2</dt><dd>2</dd><dt>3</dt><dd>2</dd><dt>4</dt><dd>2</dd><dt>5</dt><dd>2</dd><dt>6</dt><dd>2</dd><dt>7</dt><dd>2</dd><dt>8</dt><dd>2</dd><dt>9</dt><dd>2</dd><dt>10</dt><dd>2</dd><dt>11</dt><dd>2</dd><dt>12</dt><dd>2</dd><dt>13</dt><dd>2</dd><dt>14</dt><dd>2</dd><dt>15</dt><dd>2</dd><dt>16</dt><dd>2</dd><dt>17</dt><dd>2</dd><dt>18</dt><dd>2</dd><dt>19</dt><dd>2</dd><dt>20</dt><dd>2</dd><dt>21</dt><dd>2</dd><dt>22</dt><dd>2</dd><dt>23</dt><dd>2</dd><dt>24</dt><dd>1</dd><dt>25</dt><dd>2</dd><dt>26</dt><dd>2</dd><dt>27</dt><dd>2</dd><dt>28</dt><dd>2</dd><dt>29</dt><dd>1</dd><dt>30</dt><dd>2</dd><dt>31</dt><dd>2</dd><dt>32</dt><dd>2</dd><dt>33</dt><dd>2</dd><dt>34</dt><dd>2</dd><dt>35</dt><dd>2</dd><dt>36</dt><dd>2</dd><dt>37</dt><dd>2</dd><dt>38</dt><dd>2</dd><dt>39</dt><dd>2</dd><dt>40</dt><dd>2</dd><dt>41</dt><dd>2</dd><dt>42</dt><dd>2</dd><dt>43</dt><dd>2</dd><dt>44</dt><dd>1</dd><dt>45</dt><dd>2</dd><dt>46</dt><dd>1</dd><dt>47</dt><dd>1</dd><dt>48</dt><dd>1</dd><dt>49</dt><dd>2</dd><dt>50</dt><dd>1</dd><dt>51</dt><dd>2</dd><dt>52</dt><dd>2</dd><dt>53</dt><dd>2</dd><dt>54</dt><dd>2</dd><dt>55</dt><dd>2</dd><dt>56</dt><dd>2</dd><dt>57</dt><dd>1</dd><dt>58</dt><dd>2</dd><dt>59</dt><dd>2</dd><dt>60</dt><dd>2</dd><dt>61</dt><dd>2</dd><dt>62</dt><dd>1</dd><dt>63</dt><dd>2</dd><dt>64</dt><dd>2</dd><dt>65</dt><dd>2</dd><dt>66</dt><dd>1</dd><dt>67</dt><dd>2</dd><dt>68</dt><dd>2</dd><dt>69</dt><dd>2</dd><dt>70</dt><dd>2</dd><dt>71</dt><dd>2</dd><dt>72</dt><dd>2</dd><dt>73</dt><dd>2</dd><dt>74</dt><dd>2</dd><dt>75</dt><dd>2</dd><dt>76</dt><dd>2</dd><dt>77</dt><dd>2</dd><dt>78</dt><dd>1</dd><dt>79</dt><dd>2</dd><dt>80</dt><dd>2</dd><dt>81</dt><dd>2</dd><dt>82</dt><dd>2</dd><dt>83</dt><dd>2</dd><dt>84</dt><dd>2</dd><dt>85</dt><dd>2</dd><dt>86</dt><dd>1</dd><dt>87</dt><dd>1</dd><dt>88</dt><dd>2</dd><dt>89</dt><dd>2</dd><dt>90</dt><dd>2</dd><dt>91</dt><dd>2</dd><dt>92</dt><dd>2</dd><dt>93</dt><dd>1</dd><dt>94</dt><dd>2</dd><dt>95</dt><dd>2</dd><dt>96</dt><dd>2</dd><dt>97</dt><dd>2</dd><dt>98</dt><dd>2</dd><dt>99</dt><dd>2</dd><dt>100</dt><dd>2</dd><dt>101</dt><dd>2</dd><dt>102</dt><dd>2</dd><dt>103</dt><dd>2</dd><dt>104</dt><dd>2</dd><dt>105</dt><dd>2</dd><dt>106</dt><dd>2</dd><dt>107</dt><dd>2</dd><dt>108</dt><dd>2</dd><dt>109</dt><dd>2</dd><dt>110</dt><dd>2</dd><dt>111</dt><dd>2</dd><dt>112</dt><dd>2</dd><dt>113</dt><dd>2</dd><dt>114</dt><dd>2</dd><dt>115</dt><dd>2</dd><dt>116</dt><dd>2</dd><dt>117</dt><dd>2</dd><dt>118</dt><dd>2</dd><dt>119</dt><dd>2</dd><dt>120</dt><dd>2</dd><dt>121</dt><dd>2</dd><dt>122</dt><dd>2</dd><dt>123</dt><dd>2</dd><dt>124</dt><dd>2</dd><dt>125</dt><dd>2</dd><dt>126</dt><dd>2</dd><dt>127</dt><dd>2</dd><dt>128</dt><dd>2</dd><dt>129</dt><dd>2</dd><dt>130</dt><dd>2</dd><dt>131</dt><dd>2</dd><dt>132</dt><dd>2</dd><dt>133</dt><dd>2</dd><dt>134</dt><dd>2</dd><dt>135</dt><dd>2</dd><dt>136</dt><dd>2</dd><dt>137</dt><dd>2</dd><dt>138</dt><dd>2</dd><dt>139</dt><dd>2</dd><dt>140</dt><dd>2</dd><dt>141</dt><dd>2</dd><dt>142</dt><dd>2</dd><dt>143</dt><dd>2</dd><dt>144</dt><dd>2</dd><dt>145</dt><dd>2</dd><dt>146</dt><dd>1</dd><dt>147</dt><dd>2</dd><dt>148</dt><dd>2</dd><dt>149</dt><dd>2</dd><dt>150</dt><dd>2</dd><dt>151</dt><dd>2</dd><dt>152</dt><dd>2</dd><dt>153</dt><dd>2</dd><dt>154</dt><dd>2</dd><dt>155</dt><dd>2</dd><dt>156</dt><dd>1</dd><dt>157</dt><dd>2</dd><dt>158</dt><dd>2</dd><dt>159</dt><dd>2</dd><dt>160</dt><dd>2</dd><dt>161</dt><dd>2</dd><dt>162</dt><dd>2</dd><dt>163</dt><dd>2</dd><dt>164</dt><dd>1</dd><dt>165</dt><dd>2</dd><dt>166</dt><dd>1</dd><dt>167</dt><dd>2</dd><dt>168</dt><dd>2</dd><dt>169</dt><dd>2</dd><dt>170</dt><dd>2</dd><dt>171</dt><dd>2</dd><dt>172</dt><dd>1</dd><dt>173</dt><dd>2</dd><dt>174</dt><dd>2</dd><dt>175</dt><dd>2</dd><dt>176</dt><dd>2</dd><dt>177</dt><dd>2</dd><dt>178</dt><dd>2</dd><dt>179</dt><dd>2</dd><dt>180</dt><dd>2</dd><dt>181</dt><dd>2</dd><dt>182</dt><dd>1</dd><dt>183</dt><dd>2</dd><dt>184</dt><dd>1</dd><dt>185</dt><dd>2</dd><dt>186</dt><dd>2</dd><dt>187</dt><dd>2</dd><dt>188</dt><dd>2</dd><dt>189</dt><dd>2</dd><dt>190</dt><dd>2</dd><dt>191</dt><dd>2</dd><dt>192</dt><dd>2</dd><dt>193</dt><dd>2</dd><dt>194</dt><dd>2</dd><dt>195</dt><dd>2</dd><dt>196</dt><dd>2</dd><dt>197</dt><dd>2</dd><dt>198</dt><dd>2</dd><dt>199</dt><dd>2</dd><dt>200</dt><dd>2</dd><dt>201</dt><dd>⋯</dd><dt>202</dt><dd>2</dd><dt>203</dt><dd>2</dd><dt>204</dt><dd>2</dd><dt>205</dt><dd>2</dd><dt>206</dt><dd>2</dd><dt>207</dt><dd>2</dd><dt>208</dt><dd>2</dd><dt>209</dt><dd>2</dd><dt>210</dt><dd>2</dd><dt>211</dt><dd>2</dd><dt>212</dt><dd>2</dd><dt>213</dt><dd>1</dd><dt>214</dt><dd>2</dd><dt>215</dt><dd>2</dd><dt>216</dt><dd>2</dd><dt>217</dt><dd>2</dd><dt>218</dt><dd>2</dd><dt>219</dt><dd>2</dd><dt>220</dt><dd>2</dd><dt>221</dt><dd>2</dd><dt>222</dt><dd>2</dd><dt>223</dt><dd>2</dd><dt>224</dt><dd>2</dd><dt>225</dt><dd>2</dd><dt>226</dt><dd>2</dd><dt>227</dt><dd>2</dd><dt>228</dt><dd>2</dd><dt>229</dt><dd>2</dd><dt>230</dt><dd>2</dd><dt>231</dt><dd>2</dd><dt>232</dt><dd>2</dd><dt>233</dt><dd>2</dd><dt>234</dt><dd>2</dd><dt>235</dt><dd>2</dd><dt>236</dt><dd>2</dd><dt>237</dt><dd>2</dd><dt>238</dt><dd>2</dd><dt>239</dt><dd>2</dd><dt>240</dt><dd>2</dd><dt>241</dt><dd>2</dd><dt>242</dt><dd>2</dd><dt>243</dt><dd>2</dd><dt>244</dt><dd>2</dd><dt>245</dt><dd>2</dd><dt>246</dt><dd>2</dd><dt>247</dt><dd>2</dd><dt>248</dt><dd>2</dd><dt>249</dt><dd>2</dd><dt>250</dt><dd>2</dd><dt>251</dt><dd>2</dd><dt>252</dt><dd>2</dd><dt>253</dt><dd>2</dd><dt>254</dt><dd>2</dd><dt>255</dt><dd>2</dd><dt>256</dt><dd>2</dd><dt>257</dt><dd>2</dd><dt>258</dt><dd>2</dd><dt>259</dt><dd>2</dd><dt>260</dt><dd>2</dd><dt>261</dt><dd>2</dd><dt>262</dt><dd>2</dd><dt>263</dt><dd>1</dd><dt>264</dt><dd>2</dd><dt>265</dt><dd>2</dd><dt>266</dt><dd>1</dd><dt>267</dt><dd>2</dd><dt>268</dt><dd>1</dd><dt>269</dt><dd>2</dd><dt>270</dt><dd>2</dd><dt>271</dt><dd>1</dd><dt>272</dt><dd>2</dd><dt>273</dt><dd>2</dd><dt>274</dt><dd>1</dd><dt>275</dt><dd>2</dd><dt>276</dt><dd>2</dd><dt>277</dt><dd>2</dd><dt>278</dt><dd>2</dd><dt>279</dt><dd>2</dd><dt>280</dt><dd>2</dd><dt>281</dt><dd>1</dd><dt>282</dt><dd>2</dd><dt>283</dt><dd>2</dd><dt>284</dt><dd>2</dd><dt>285</dt><dd>2</dd><dt>286</dt><dd>2</dd><dt>287</dt><dd>1</dd><dt>288</dt><dd>2</dd><dt>289</dt><dd>2</dd><dt>290</dt><dd>2</dd><dt>291</dt><dd>2</dd><dt>292</dt><dd>2</dd><dt>293</dt><dd>1</dd><dt>294</dt><dd>2</dd><dt>295</dt><dd>1</dd><dt>296</dt><dd>2</dd><dt>297</dt><dd>2</dd><dt>298</dt><dd>2</dd><dt>299</dt><dd>2</dd><dt>300</dt><dd>2</dd><dt>301</dt><dd>2</dd><dt>302</dt><dd>2</dd><dt>303</dt><dd>2</dd><dt>304</dt><dd>2</dd><dt>305</dt><dd>1</dd><dt>306</dt><dd>2</dd><dt>307</dt><dd>2</dd><dt>308</dt><dd>2</dd><dt>309</dt><dd>2</dd><dt>310</dt><dd>2</dd><dt>311</dt><dd>1</dd><dt>312</dt><dd>2</dd><dt>313</dt><dd>1</dd><dt>314</dt><dd>2</dd><dt>315</dt><dd>2</dd><dt>316</dt><dd>2</dd><dt>317</dt><dd>2</dd><dt>318</dt><dd>2</dd><dt>319</dt><dd>2</dd><dt>320</dt><dd>2</dd><dt>321</dt><dd>2</dd><dt>322</dt><dd>2</dd><dt>323</dt><dd>2</dd><dt>324</dt><dd>2</dd><dt>325</dt><dd>2</dd><dt>326</dt><dd>2</dd><dt>327</dt><dd>2</dd><dt>328</dt><dd>2</dd><dt>329</dt><dd>2</dd><dt>330</dt><dd>2</dd><dt>331</dt><dd>2</dd><dt>332</dt><dd>2</dd><dt>333</dt><dd>2</dd><dt>334</dt><dd>2</dd><dt>335</dt><dd>2</dd><dt>336</dt><dd>2</dd><dt>337</dt><dd>2</dd><dt>338</dt><dd>2</dd><dt>339</dt><dd>2</dd><dt>340</dt><dd>2</dd><dt>341</dt><dd>2</dd><dt>342</dt><dd>2</dd><dt>343</dt><dd>2</dd><dt>344</dt><dd>2</dd><dt>345</dt><dd>2</dd><dt>346</dt><dd>2</dd><dt>347</dt><dd>2</dd><dt>348</dt><dd>2</dd><dt>349</dt><dd>2</dd><dt>350</dt><dd>2</dd><dt>351</dt><dd>2</dd><dt>352</dt><dd>2</dd><dt>353</dt><dd>2</dd><dt>354</dt><dd>2</dd><dt>355</dt><dd>2</dd><dt>356</dt><dd>2</dd><dt>357</dt><dd>2</dd><dt>358</dt><dd>2</dd><dt>359</dt><dd>2</dd><dt>360</dt><dd>2</dd><dt>361</dt><dd>2</dd><dt>362</dt><dd>2</dd><dt>363</dt><dd>2</dd><dt>364</dt><dd>2</dd><dt>365</dt><dd>2</dd><dt>366</dt><dd>2</dd><dt>367</dt><dd>2</dd><dt>368</dt><dd>2</dd><dt>369</dt><dd>2</dd><dt>370</dt><dd>2</dd><dt>371</dt><dd>2</dd><dt>372</dt><dd>2</dd><dt>373</dt><dd>2</dd><dt>374</dt><dd>2</dd><dt>375</dt><dd>2</dd><dt>376</dt><dd>2</dd><dt>377</dt><dd>2</dd><dt>378</dt><dd>2</dd><dt>379</dt><dd>2</dd><dt>380</dt><dd>2</dd><dt>381</dt><dd>2</dd><dt>382</dt><dd>2</dd><dt>383</dt><dd>2</dd><dt>384</dt><dd>2</dd><dt>385</dt><dd>2</dd><dt>386</dt><dd>2</dd><dt>387</dt><dd>2</dd><dt>388</dt><dd>2</dd><dt>389</dt><dd>2</dd><dt>390</dt><dd>2</dd><dt>391</dt><dd>2</dd><dt>392</dt><dd>2</dd><dt>393</dt><dd>2</dd><dt>394</dt><dd>2</dd><dt>395</dt><dd>2</dd><dt>396</dt><dd>2</dd><dt>397</dt><dd>2</dd><dt>398</dt><dd>2</dd><dt>399</dt><dd>1</dd><dt>400</dt><dd>2</dd><dt>401</dt><dd>2</dd></dl>\n"
      ],
      "text/latex": [
       "\\begin{description*}\n",
       "\\item[1] 2\n",
       "\\item[2] 2\n",
       "\\item[3] 2\n",
       "\\item[4] 2\n",
       "\\item[5] 2\n",
       "\\item[6] 2\n",
       "\\item[7] 2\n",
       "\\item[8] 2\n",
       "\\item[9] 2\n",
       "\\item[10] 2\n",
       "\\item[11] 2\n",
       "\\item[12] 2\n",
       "\\item[13] 2\n",
       "\\item[14] 2\n",
       "\\item[15] 2\n",
       "\\item[16] 2\n",
       "\\item[17] 2\n",
       "\\item[18] 2\n",
       "\\item[19] 2\n",
       "\\item[20] 2\n",
       "\\item[21] 2\n",
       "\\item[22] 2\n",
       "\\item[23] 2\n",
       "\\item[24] 1\n",
       "\\item[25] 2\n",
       "\\item[26] 2\n",
       "\\item[27] 2\n",
       "\\item[28] 2\n",
       "\\item[29] 1\n",
       "\\item[30] 2\n",
       "\\item[31] 2\n",
       "\\item[32] 2\n",
       "\\item[33] 2\n",
       "\\item[34] 2\n",
       "\\item[35] 2\n",
       "\\item[36] 2\n",
       "\\item[37] 2\n",
       "\\item[38] 2\n",
       "\\item[39] 2\n",
       "\\item[40] 2\n",
       "\\item[41] 2\n",
       "\\item[42] 2\n",
       "\\item[43] 2\n",
       "\\item[44] 1\n",
       "\\item[45] 2\n",
       "\\item[46] 1\n",
       "\\item[47] 1\n",
       "\\item[48] 1\n",
       "\\item[49] 2\n",
       "\\item[50] 1\n",
       "\\item[51] 2\n",
       "\\item[52] 2\n",
       "\\item[53] 2\n",
       "\\item[54] 2\n",
       "\\item[55] 2\n",
       "\\item[56] 2\n",
       "\\item[57] 1\n",
       "\\item[58] 2\n",
       "\\item[59] 2\n",
       "\\item[60] 2\n",
       "\\item[61] 2\n",
       "\\item[62] 1\n",
       "\\item[63] 2\n",
       "\\item[64] 2\n",
       "\\item[65] 2\n",
       "\\item[66] 1\n",
       "\\item[67] 2\n",
       "\\item[68] 2\n",
       "\\item[69] 2\n",
       "\\item[70] 2\n",
       "\\item[71] 2\n",
       "\\item[72] 2\n",
       "\\item[73] 2\n",
       "\\item[74] 2\n",
       "\\item[75] 2\n",
       "\\item[76] 2\n",
       "\\item[77] 2\n",
       "\\item[78] 1\n",
       "\\item[79] 2\n",
       "\\item[80] 2\n",
       "\\item[81] 2\n",
       "\\item[82] 2\n",
       "\\item[83] 2\n",
       "\\item[84] 2\n",
       "\\item[85] 2\n",
       "\\item[86] 1\n",
       "\\item[87] 1\n",
       "\\item[88] 2\n",
       "\\item[89] 2\n",
       "\\item[90] 2\n",
       "\\item[91] 2\n",
       "\\item[92] 2\n",
       "\\item[93] 1\n",
       "\\item[94] 2\n",
       "\\item[95] 2\n",
       "\\item[96] 2\n",
       "\\item[97] 2\n",
       "\\item[98] 2\n",
       "\\item[99] 2\n",
       "\\item[100] 2\n",
       "\\item[101] 2\n",
       "\\item[102] 2\n",
       "\\item[103] 2\n",
       "\\item[104] 2\n",
       "\\item[105] 2\n",
       "\\item[106] 2\n",
       "\\item[107] 2\n",
       "\\item[108] 2\n",
       "\\item[109] 2\n",
       "\\item[110] 2\n",
       "\\item[111] 2\n",
       "\\item[112] 2\n",
       "\\item[113] 2\n",
       "\\item[114] 2\n",
       "\\item[115] 2\n",
       "\\item[116] 2\n",
       "\\item[117] 2\n",
       "\\item[118] 2\n",
       "\\item[119] 2\n",
       "\\item[120] 2\n",
       "\\item[121] 2\n",
       "\\item[122] 2\n",
       "\\item[123] 2\n",
       "\\item[124] 2\n",
       "\\item[125] 2\n",
       "\\item[126] 2\n",
       "\\item[127] 2\n",
       "\\item[128] 2\n",
       "\\item[129] 2\n",
       "\\item[130] 2\n",
       "\\item[131] 2\n",
       "\\item[132] 2\n",
       "\\item[133] 2\n",
       "\\item[134] 2\n",
       "\\item[135] 2\n",
       "\\item[136] 2\n",
       "\\item[137] 2\n",
       "\\item[138] 2\n",
       "\\item[139] 2\n",
       "\\item[140] 2\n",
       "\\item[141] 2\n",
       "\\item[142] 2\n",
       "\\item[143] 2\n",
       "\\item[144] 2\n",
       "\\item[145] 2\n",
       "\\item[146] 1\n",
       "\\item[147] 2\n",
       "\\item[148] 2\n",
       "\\item[149] 2\n",
       "\\item[150] 2\n",
       "\\item[151] 2\n",
       "\\item[152] 2\n",
       "\\item[153] 2\n",
       "\\item[154] 2\n",
       "\\item[155] 2\n",
       "\\item[156] 1\n",
       "\\item[157] 2\n",
       "\\item[158] 2\n",
       "\\item[159] 2\n",
       "\\item[160] 2\n",
       "\\item[161] 2\n",
       "\\item[162] 2\n",
       "\\item[163] 2\n",
       "\\item[164] 1\n",
       "\\item[165] 2\n",
       "\\item[166] 1\n",
       "\\item[167] 2\n",
       "\\item[168] 2\n",
       "\\item[169] 2\n",
       "\\item[170] 2\n",
       "\\item[171] 2\n",
       "\\item[172] 1\n",
       "\\item[173] 2\n",
       "\\item[174] 2\n",
       "\\item[175] 2\n",
       "\\item[176] 2\n",
       "\\item[177] 2\n",
       "\\item[178] 2\n",
       "\\item[179] 2\n",
       "\\item[180] 2\n",
       "\\item[181] 2\n",
       "\\item[182] 1\n",
       "\\item[183] 2\n",
       "\\item[184] 1\n",
       "\\item[185] 2\n",
       "\\item[186] 2\n",
       "\\item[187] 2\n",
       "\\item[188] 2\n",
       "\\item[189] 2\n",
       "\\item[190] 2\n",
       "\\item[191] 2\n",
       "\\item[192] 2\n",
       "\\item[193] 2\n",
       "\\item[194] 2\n",
       "\\item[195] 2\n",
       "\\item[196] 2\n",
       "\\item[197] 2\n",
       "\\item[198] 2\n",
       "\\item[199] 2\n",
       "\\item[200] 2\n",
       "\\item[201] ⋯\n",
       "\\item[202] 2\n",
       "\\item[203] 2\n",
       "\\item[204] 2\n",
       "\\item[205] 2\n",
       "\\item[206] 2\n",
       "\\item[207] 2\n",
       "\\item[208] 2\n",
       "\\item[209] 2\n",
       "\\item[210] 2\n",
       "\\item[211] 2\n",
       "\\item[212] 2\n",
       "\\item[213] 1\n",
       "\\item[214] 2\n",
       "\\item[215] 2\n",
       "\\item[216] 2\n",
       "\\item[217] 2\n",
       "\\item[218] 2\n",
       "\\item[219] 2\n",
       "\\item[220] 2\n",
       "\\item[221] 2\n",
       "\\item[222] 2\n",
       "\\item[223] 2\n",
       "\\item[224] 2\n",
       "\\item[225] 2\n",
       "\\item[226] 2\n",
       "\\item[227] 2\n",
       "\\item[228] 2\n",
       "\\item[229] 2\n",
       "\\item[230] 2\n",
       "\\item[231] 2\n",
       "\\item[232] 2\n",
       "\\item[233] 2\n",
       "\\item[234] 2\n",
       "\\item[235] 2\n",
       "\\item[236] 2\n",
       "\\item[237] 2\n",
       "\\item[238] 2\n",
       "\\item[239] 2\n",
       "\\item[240] 2\n",
       "\\item[241] 2\n",
       "\\item[242] 2\n",
       "\\item[243] 2\n",
       "\\item[244] 2\n",
       "\\item[245] 2\n",
       "\\item[246] 2\n",
       "\\item[247] 2\n",
       "\\item[248] 2\n",
       "\\item[249] 2\n",
       "\\item[250] 2\n",
       "\\item[251] 2\n",
       "\\item[252] 2\n",
       "\\item[253] 2\n",
       "\\item[254] 2\n",
       "\\item[255] 2\n",
       "\\item[256] 2\n",
       "\\item[257] 2\n",
       "\\item[258] 2\n",
       "\\item[259] 2\n",
       "\\item[260] 2\n",
       "\\item[261] 2\n",
       "\\item[262] 2\n",
       "\\item[263] 1\n",
       "\\item[264] 2\n",
       "\\item[265] 2\n",
       "\\item[266] 1\n",
       "\\item[267] 2\n",
       "\\item[268] 1\n",
       "\\item[269] 2\n",
       "\\item[270] 2\n",
       "\\item[271] 1\n",
       "\\item[272] 2\n",
       "\\item[273] 2\n",
       "\\item[274] 1\n",
       "\\item[275] 2\n",
       "\\item[276] 2\n",
       "\\item[277] 2\n",
       "\\item[278] 2\n",
       "\\item[279] 2\n",
       "\\item[280] 2\n",
       "\\item[281] 1\n",
       "\\item[282] 2\n",
       "\\item[283] 2\n",
       "\\item[284] 2\n",
       "\\item[285] 2\n",
       "\\item[286] 2\n",
       "\\item[287] 1\n",
       "\\item[288] 2\n",
       "\\item[289] 2\n",
       "\\item[290] 2\n",
       "\\item[291] 2\n",
       "\\item[292] 2\n",
       "\\item[293] 1\n",
       "\\item[294] 2\n",
       "\\item[295] 1\n",
       "\\item[296] 2\n",
       "\\item[297] 2\n",
       "\\item[298] 2\n",
       "\\item[299] 2\n",
       "\\item[300] 2\n",
       "\\item[301] 2\n",
       "\\item[302] 2\n",
       "\\item[303] 2\n",
       "\\item[304] 2\n",
       "\\item[305] 1\n",
       "\\item[306] 2\n",
       "\\item[307] 2\n",
       "\\item[308] 2\n",
       "\\item[309] 2\n",
       "\\item[310] 2\n",
       "\\item[311] 1\n",
       "\\item[312] 2\n",
       "\\item[313] 1\n",
       "\\item[314] 2\n",
       "\\item[315] 2\n",
       "\\item[316] 2\n",
       "\\item[317] 2\n",
       "\\item[318] 2\n",
       "\\item[319] 2\n",
       "\\item[320] 2\n",
       "\\item[321] 2\n",
       "\\item[322] 2\n",
       "\\item[323] 2\n",
       "\\item[324] 2\n",
       "\\item[325] 2\n",
       "\\item[326] 2\n",
       "\\item[327] 2\n",
       "\\item[328] 2\n",
       "\\item[329] 2\n",
       "\\item[330] 2\n",
       "\\item[331] 2\n",
       "\\item[332] 2\n",
       "\\item[333] 2\n",
       "\\item[334] 2\n",
       "\\item[335] 2\n",
       "\\item[336] 2\n",
       "\\item[337] 2\n",
       "\\item[338] 2\n",
       "\\item[339] 2\n",
       "\\item[340] 2\n",
       "\\item[341] 2\n",
       "\\item[342] 2\n",
       "\\item[343] 2\n",
       "\\item[344] 2\n",
       "\\item[345] 2\n",
       "\\item[346] 2\n",
       "\\item[347] 2\n",
       "\\item[348] 2\n",
       "\\item[349] 2\n",
       "\\item[350] 2\n",
       "\\item[351] 2\n",
       "\\item[352] 2\n",
       "\\item[353] 2\n",
       "\\item[354] 2\n",
       "\\item[355] 2\n",
       "\\item[356] 2\n",
       "\\item[357] 2\n",
       "\\item[358] 2\n",
       "\\item[359] 2\n",
       "\\item[360] 2\n",
       "\\item[361] 2\n",
       "\\item[362] 2\n",
       "\\item[363] 2\n",
       "\\item[364] 2\n",
       "\\item[365] 2\n",
       "\\item[366] 2\n",
       "\\item[367] 2\n",
       "\\item[368] 2\n",
       "\\item[369] 2\n",
       "\\item[370] 2\n",
       "\\item[371] 2\n",
       "\\item[372] 2\n",
       "\\item[373] 2\n",
       "\\item[374] 2\n",
       "\\item[375] 2\n",
       "\\item[376] 2\n",
       "\\item[377] 2\n",
       "\\item[378] 2\n",
       "\\item[379] 2\n",
       "\\item[380] 2\n",
       "\\item[381] 2\n",
       "\\item[382] 2\n",
       "\\item[383] 2\n",
       "\\item[384] 2\n",
       "\\item[385] 2\n",
       "\\item[386] 2\n",
       "\\item[387] 2\n",
       "\\item[388] 2\n",
       "\\item[389] 2\n",
       "\\item[390] 2\n",
       "\\item[391] 2\n",
       "\\item[392] 2\n",
       "\\item[393] 2\n",
       "\\item[394] 2\n",
       "\\item[395] 2\n",
       "\\item[396] 2\n",
       "\\item[397] 2\n",
       "\\item[398] 2\n",
       "\\item[399] 1\n",
       "\\item[400] 2\n",
       "\\item[401] 2\n",
       "\\end{description*}\n"
      ],
      "text/markdown": [
       "1\n",
       ":   22\n",
       ":   23\n",
       ":   24\n",
       ":   25\n",
       ":   26\n",
       ":   27\n",
       ":   28\n",
       ":   29\n",
       ":   210\n",
       ":   211\n",
       ":   212\n",
       ":   213\n",
       ":   214\n",
       ":   215\n",
       ":   216\n",
       ":   217\n",
       ":   218\n",
       ":   219\n",
       ":   220\n",
       ":   221\n",
       ":   222\n",
       ":   223\n",
       ":   224\n",
       ":   125\n",
       ":   226\n",
       ":   227\n",
       ":   228\n",
       ":   229\n",
       ":   130\n",
       ":   231\n",
       ":   232\n",
       ":   233\n",
       ":   234\n",
       ":   235\n",
       ":   236\n",
       ":   237\n",
       ":   238\n",
       ":   239\n",
       ":   240\n",
       ":   241\n",
       ":   242\n",
       ":   243\n",
       ":   244\n",
       ":   145\n",
       ":   246\n",
       ":   147\n",
       ":   148\n",
       ":   149\n",
       ":   250\n",
       ":   151\n",
       ":   252\n",
       ":   253\n",
       ":   254\n",
       ":   255\n",
       ":   256\n",
       ":   257\n",
       ":   158\n",
       ":   259\n",
       ":   260\n",
       ":   261\n",
       ":   262\n",
       ":   163\n",
       ":   264\n",
       ":   265\n",
       ":   266\n",
       ":   167\n",
       ":   268\n",
       ":   269\n",
       ":   270\n",
       ":   271\n",
       ":   272\n",
       ":   273\n",
       ":   274\n",
       ":   275\n",
       ":   276\n",
       ":   277\n",
       ":   278\n",
       ":   179\n",
       ":   280\n",
       ":   281\n",
       ":   282\n",
       ":   283\n",
       ":   284\n",
       ":   285\n",
       ":   286\n",
       ":   187\n",
       ":   188\n",
       ":   289\n",
       ":   290\n",
       ":   291\n",
       ":   292\n",
       ":   293\n",
       ":   194\n",
       ":   295\n",
       ":   296\n",
       ":   297\n",
       ":   298\n",
       ":   299\n",
       ":   2100\n",
       ":   2101\n",
       ":   2102\n",
       ":   2103\n",
       ":   2104\n",
       ":   2105\n",
       ":   2106\n",
       ":   2107\n",
       ":   2108\n",
       ":   2109\n",
       ":   2110\n",
       ":   2111\n",
       ":   2112\n",
       ":   2113\n",
       ":   2114\n",
       ":   2115\n",
       ":   2116\n",
       ":   2117\n",
       ":   2118\n",
       ":   2119\n",
       ":   2120\n",
       ":   2121\n",
       ":   2122\n",
       ":   2123\n",
       ":   2124\n",
       ":   2125\n",
       ":   2126\n",
       ":   2127\n",
       ":   2128\n",
       ":   2129\n",
       ":   2130\n",
       ":   2131\n",
       ":   2132\n",
       ":   2133\n",
       ":   2134\n",
       ":   2135\n",
       ":   2136\n",
       ":   2137\n",
       ":   2138\n",
       ":   2139\n",
       ":   2140\n",
       ":   2141\n",
       ":   2142\n",
       ":   2143\n",
       ":   2144\n",
       ":   2145\n",
       ":   2146\n",
       ":   1147\n",
       ":   2148\n",
       ":   2149\n",
       ":   2150\n",
       ":   2151\n",
       ":   2152\n",
       ":   2153\n",
       ":   2154\n",
       ":   2155\n",
       ":   2156\n",
       ":   1157\n",
       ":   2158\n",
       ":   2159\n",
       ":   2160\n",
       ":   2161\n",
       ":   2162\n",
       ":   2163\n",
       ":   2164\n",
       ":   1165\n",
       ":   2166\n",
       ":   1167\n",
       ":   2168\n",
       ":   2169\n",
       ":   2170\n",
       ":   2171\n",
       ":   2172\n",
       ":   1173\n",
       ":   2174\n",
       ":   2175\n",
       ":   2176\n",
       ":   2177\n",
       ":   2178\n",
       ":   2179\n",
       ":   2180\n",
       ":   2181\n",
       ":   2182\n",
       ":   1183\n",
       ":   2184\n",
       ":   1185\n",
       ":   2186\n",
       ":   2187\n",
       ":   2188\n",
       ":   2189\n",
       ":   2190\n",
       ":   2191\n",
       ":   2192\n",
       ":   2193\n",
       ":   2194\n",
       ":   2195\n",
       ":   2196\n",
       ":   2197\n",
       ":   2198\n",
       ":   2199\n",
       ":   2200\n",
       ":   2201\n",
       ":   ⋯202\n",
       ":   2203\n",
       ":   2204\n",
       ":   2205\n",
       ":   2206\n",
       ":   2207\n",
       ":   2208\n",
       ":   2209\n",
       ":   2210\n",
       ":   2211\n",
       ":   2212\n",
       ":   2213\n",
       ":   1214\n",
       ":   2215\n",
       ":   2216\n",
       ":   2217\n",
       ":   2218\n",
       ":   2219\n",
       ":   2220\n",
       ":   2221\n",
       ":   2222\n",
       ":   2223\n",
       ":   2224\n",
       ":   2225\n",
       ":   2226\n",
       ":   2227\n",
       ":   2228\n",
       ":   2229\n",
       ":   2230\n",
       ":   2231\n",
       ":   2232\n",
       ":   2233\n",
       ":   2234\n",
       ":   2235\n",
       ":   2236\n",
       ":   2237\n",
       ":   2238\n",
       ":   2239\n",
       ":   2240\n",
       ":   2241\n",
       ":   2242\n",
       ":   2243\n",
       ":   2244\n",
       ":   2245\n",
       ":   2246\n",
       ":   2247\n",
       ":   2248\n",
       ":   2249\n",
       ":   2250\n",
       ":   2251\n",
       ":   2252\n",
       ":   2253\n",
       ":   2254\n",
       ":   2255\n",
       ":   2256\n",
       ":   2257\n",
       ":   2258\n",
       ":   2259\n",
       ":   2260\n",
       ":   2261\n",
       ":   2262\n",
       ":   2263\n",
       ":   1264\n",
       ":   2265\n",
       ":   2266\n",
       ":   1267\n",
       ":   2268\n",
       ":   1269\n",
       ":   2270\n",
       ":   2271\n",
       ":   1272\n",
       ":   2273\n",
       ":   2274\n",
       ":   1275\n",
       ":   2276\n",
       ":   2277\n",
       ":   2278\n",
       ":   2279\n",
       ":   2280\n",
       ":   2281\n",
       ":   1282\n",
       ":   2283\n",
       ":   2284\n",
       ":   2285\n",
       ":   2286\n",
       ":   2287\n",
       ":   1288\n",
       ":   2289\n",
       ":   2290\n",
       ":   2291\n",
       ":   2292\n",
       ":   2293\n",
       ":   1294\n",
       ":   2295\n",
       ":   1296\n",
       ":   2297\n",
       ":   2298\n",
       ":   2299\n",
       ":   2300\n",
       ":   2301\n",
       ":   2302\n",
       ":   2303\n",
       ":   2304\n",
       ":   2305\n",
       ":   1306\n",
       ":   2307\n",
       ":   2308\n",
       ":   2309\n",
       ":   2310\n",
       ":   2311\n",
       ":   1312\n",
       ":   2313\n",
       ":   1314\n",
       ":   2315\n",
       ":   2316\n",
       ":   2317\n",
       ":   2318\n",
       ":   2319\n",
       ":   2320\n",
       ":   2321\n",
       ":   2322\n",
       ":   2323\n",
       ":   2324\n",
       ":   2325\n",
       ":   2326\n",
       ":   2327\n",
       ":   2328\n",
       ":   2329\n",
       ":   2330\n",
       ":   2331\n",
       ":   2332\n",
       ":   2333\n",
       ":   2334\n",
       ":   2335\n",
       ":   2336\n",
       ":   2337\n",
       ":   2338\n",
       ":   2339\n",
       ":   2340\n",
       ":   2341\n",
       ":   2342\n",
       ":   2343\n",
       ":   2344\n",
       ":   2345\n",
       ":   2346\n",
       ":   2347\n",
       ":   2348\n",
       ":   2349\n",
       ":   2350\n",
       ":   2351\n",
       ":   2352\n",
       ":   2353\n",
       ":   2354\n",
       ":   2355\n",
       ":   2356\n",
       ":   2357\n",
       ":   2358\n",
       ":   2359\n",
       ":   2360\n",
       ":   2361\n",
       ":   2362\n",
       ":   2363\n",
       ":   2364\n",
       ":   2365\n",
       ":   2366\n",
       ":   2367\n",
       ":   2368\n",
       ":   2369\n",
       ":   2370\n",
       ":   2371\n",
       ":   2372\n",
       ":   2373\n",
       ":   2374\n",
       ":   2375\n",
       ":   2376\n",
       ":   2377\n",
       ":   2378\n",
       ":   2379\n",
       ":   2380\n",
       ":   2381\n",
       ":   2382\n",
       ":   2383\n",
       ":   2384\n",
       ":   2385\n",
       ":   2386\n",
       ":   2387\n",
       ":   2388\n",
       ":   2389\n",
       ":   2390\n",
       ":   2391\n",
       ":   2392\n",
       ":   2393\n",
       ":   2394\n",
       ":   2395\n",
       ":   2396\n",
       ":   2397\n",
       ":   2398\n",
       ":   2399\n",
       ":   1400\n",
       ":   2401\n",
       ":   2\n",
       "\n"
      ],
      "text/plain": [
       "  1   2   3   4   5   6   7   8   9  10  11  12  13  14  15  16  17  18  19  20 \n",
       "  2   2   2   2   2   2   2   2   2   2   2   2   2   2   2   2   2   2   2   2 \n",
       " 21  22  23  24  25  26  27  28  29  30  31  32  33  34  35  36  37  38  39  40 \n",
       "  2   2   2   1   2   2   2   2   1   2   2   2   2   2   2   2   2   2   2   2 \n",
       " 41  42  43  44  45  46  47  48  49  50  51  52  53  54  55  56  57  58  59  60 \n",
       "  2   2   2   1   2   1   1   1   2   1   2   2   2   2   2   2   1   2   2   2 \n",
       " 61  62  63  64  65  66  67  68  69  70  71  72  73  74  75  76  77  78  79  80 \n",
       "  2   1   2   2   2   1   2   2   2   2   2   2   2   2   2   2   2   1   2   2 \n",
       " 81  82  83  84  85  86  87  88  89  90  91  92  93  94  95  96  97  98  99 100 \n",
       "  2   2   2   2   2   1   1   2   2   2   2   2   1   2   2   2   2   2   2   2 \n",
       "101 102 103 104 105 106 107 108 109 110 111 112 113 114 115 116 117 118 119 120 \n",
       "  2   2   2   2   2   2   2   2   2   2   2   2   2   2   2   2   2   2   2   2 \n",
       "121 122 123 124 125 126 127 128 129 130 131 132 133 134 135 136 137 138 139 140 \n",
       "  2   2   2   2   2   2   2   2   2   2   2   2   2   2   2   2   2   2   2   2 \n",
       "141 142 143 144 145 146 147 148 149 150 151 152 153 154 155 156 157 158 159 160 \n",
       "  2   2   2   2   2   1   2   2   2   2   2   2   2   2   2   1   2   2   2   2 \n",
       "161 162 163 164 165 166 167 168 169 170 171 172 173 174 175 176 177 178 179 180 \n",
       "  2   2   2   1   2   1   2   2   2   2   2   1   2   2   2   2   2   2   2   2 \n",
       "181 182 183 184 185 186 187 188 189 190 191 192 193 194 195 196 197 198 199 200 \n",
       "  2   1   2   1   2   2   2   2   2   2   2   2   2   2   2   2   2   2   2   2 \n",
       "201 202 203 204 205 206 207 208 209 210 211 212 213 214 215 216 217 218 219 220 \n",
       "  1   1   2   2   2   1   2   2   2   1   2   1   2   2   2   2   1   2   2   2 \n",
       "221 222 223 224 225 226 227 228 229 230 231 232 233 234 235 236 237 238 239 240 \n",
       "  2   2   2   2   2   2   2   2   2   2   2   2   2   2   2   2   2   2   2   2 \n",
       "241 242 243 244 245 246 247 248 249 250 251 252 253 254 255 256 257 258 259 260 \n",
       "  2   2   2   2   2   2   2   2   2   2   2   1   2   2   2   2   2   2   2   2 \n",
       "261 262 263 264 265 266 267 268 269 270 271 272 273 274 275 276 277 278 279 280 \n",
       "  2   2   2   2   2   2   2   2   2   2   2   2   2   2   2   2   2   2   2   2 \n",
       "281 282 283 284 285 286 287 288 289 290 291 292 293 294 295 296 297 298 299 300 \n",
       "  2   2   2   2   2   2   2   2   2   2   2   2   2   2   2   2   2   2   2   2 \n",
       "301 302 303 304 305 306 307 308 309 310 311 312 313 314 315 316 317 318 319 320 \n",
       "  2   1   2   2   1   2   1   2   2   1   2   2   1   2   2   2   2   2   2   1 \n",
       "321 322 323 324 325 326 327 328 329 330 331 332 333 334 335 336 337 338 339 340 \n",
       "  2   2   2   2   2   1   2   2   2   2   2   1   2   1   2   2   2   2   2   2 \n",
       "341 342 343 344 345 346 347 348 349 350 351 352 353 354 355 356 357 358 359 360 \n",
       "  2   2   2   1   2   2   2   2   2   1   2   1   2   2   2   2   2   2   2   2 \n",
       "361 362 363 364 365 366 367 368 369 370 371 372 373 374 375 376 377 378 379 380 \n",
       "  2   2   2   2   2   2   2   2   2   2   2   2   2   2   2   2   2   2   2   2 \n",
       "381 382 383 384 385 386 387 388 389 390 391 392 393 394 395 396 397 398 399 400 \n",
       "  2   2   2   2   2   2   2   2   2   2   2   2   2   2   2   2   2   2   2   2 \n",
       "401 402 403 404 405 406 407 408 409 410 411 412 413 414 415 416 417 418 419 420 \n",
       "  2   2   2   2   2   2   2   2   2   2   2   2   2   2   2   2   2   2   2   2 \n",
       "421 422 423 424 425 426 427 428 429 430 431 432 433 434 435 436 437 438 439 440 \n",
       "  2   2   2   2   2   2   2   2   2   2   2   2   2   2   2   2   2   1   2   2 "
      ]
     },
     "metadata": {},
     "output_type": "display_data"
    },
    {
     "data": {
      "text/html": [
       "<table class=\"dataframe\">\n",
       "<caption>A matrix: 2 × 6 of type dbl</caption>\n",
       "<thead>\n",
       "\t<tr><th></th><th scope=col>Fresh</th><th scope=col>Milk</th><th scope=col>Grocery</th><th scope=col>Frozen</th><th scope=col>Detergents_Paper</th><th scope=col>Delicassen</th></tr>\n",
       "</thead>\n",
       "<tbody>\n",
       "\t<tr><th scope=row>1</th><td> 0.05283636</td><td> 2.0659269</td><td> 2.2407190</td><td> 0.32219794</td><td> 2.2585338</td><td> 0.8039597</td></tr>\n",
       "\t<tr><th scope=row>2</th><td>-0.00542930</td><td>-0.2122882</td><td>-0.2302493</td><td>-0.03310806</td><td>-0.2320799</td><td>-0.0826124</td></tr>\n",
       "</tbody>\n",
       "</table>\n"
      ],
      "text/latex": [
       "A matrix: 2 × 6 of type dbl\n",
       "\\begin{tabular}{r|llllll}\n",
       "  & Fresh & Milk & Grocery & Frozen & Detergents\\_Paper & Delicassen\\\\\n",
       "\\hline\n",
       "\t1 &  0.05283636 &  2.0659269 &  2.2407190 &  0.32219794 &  2.2585338 &  0.8039597\\\\\n",
       "\t2 & -0.00542930 & -0.2122882 & -0.2302493 & -0.03310806 & -0.2320799 & -0.0826124\\\\\n",
       "\\end{tabular}\n"
      ],
      "text/markdown": [
       "\n",
       "A matrix: 2 × 6 of type dbl\n",
       "\n",
       "| <!--/--> | Fresh | Milk | Grocery | Frozen | Detergents_Paper | Delicassen |\n",
       "|---|---|---|---|---|---|---|\n",
       "| 1 |  0.05283636 |  2.0659269 |  2.2407190 |  0.32219794 |  2.2585338 |  0.8039597 |\n",
       "| 2 | -0.00542930 | -0.2122882 | -0.2302493 | -0.03310806 | -0.2320799 | -0.0826124 |\n",
       "\n"
      ],
      "text/plain": [
       "  Fresh       Milk       Grocery    Frozen      Detergents_Paper Delicassen\n",
       "1  0.05283636  2.0659269  2.2407190  0.32219794  2.2585338        0.8039597\n",
       "2 -0.00542930 -0.2122882 -0.2302493 -0.03310806 -0.2320799       -0.0826124"
      ]
     },
     "metadata": {},
     "output_type": "display_data"
    },
    {
     "data": {
      "text/html": [
       "2634"
      ],
      "text/latex": [
       "2634"
      ],
      "text/markdown": [
       "2634"
      ],
      "text/plain": [
       "[1] 2634"
      ]
     },
     "metadata": {},
     "output_type": "display_data"
    },
    {
     "data": {
      "text/html": [
       "2634"
      ],
      "text/latex": [
       "2634"
      ],
      "text/markdown": [
       "2634"
      ],
      "text/plain": [
       "[1] 2634"
      ]
     },
     "metadata": {},
     "output_type": "display_data"
    },
    {
     "data": {
      "text/html": [
       "<style>\n",
       ".list-inline {list-style: none; margin:0; padding: 0}\n",
       ".list-inline>li {display: inline-block}\n",
       ".list-inline>li:not(:last-child)::after {content: \"\\00b7\"; padding: 0 .5ex}\n",
       "</style>\n",
       "<ol class=list-inline><li>966.385969241452</li><li>982.961897248163</li></ol>\n"
      ],
      "text/latex": [
       "\\begin{enumerate*}\n",
       "\\item 966.385969241452\n",
       "\\item 982.961897248163\n",
       "\\end{enumerate*}\n"
      ],
      "text/markdown": [
       "1. 966.385969241452\n",
       "2. 982.961897248163\n",
       "\n",
       "\n"
      ],
      "text/plain": [
       "[1] 966.3860 982.9619"
      ]
     },
     "metadata": {},
     "output_type": "display_data"
    },
    {
     "data": {
      "text/html": [
       "684.652133510384"
      ],
      "text/latex": [
       "684.652133510384"
      ],
      "text/markdown": [
       "684.652133510384"
      ],
      "text/plain": [
       "[1] 684.6521"
      ]
     },
     "metadata": {},
     "output_type": "display_data"
    },
    {
     "data": {
      "text/html": [
       "<style>\n",
       ".list-inline {list-style: none; margin:0; padding: 0}\n",
       ".list-inline>li {display: inline-block}\n",
       ".list-inline>li:not(:last-child)::after {content: \"\\00b7\"; padding: 0 .5ex}\n",
       "</style>\n",
       "<ol class=list-inline><li>41</li><li>399</li></ol>\n"
      ],
      "text/latex": [
       "\\begin{enumerate*}\n",
       "\\item 41\n",
       "\\item 399\n",
       "\\end{enumerate*}\n"
      ],
      "text/markdown": [
       "1. 41\n",
       "2. 399\n",
       "\n",
       "\n"
      ],
      "text/plain": [
       "[1]  41 399"
      ]
     },
     "metadata": {},
     "output_type": "display_data"
    },
    {
     "data": {
      "text/html": [
       "1"
      ],
      "text/latex": [
       "1"
      ],
      "text/markdown": [
       "1"
      ],
      "text/plain": [
       "[1] 1"
      ]
     },
     "metadata": {},
     "output_type": "display_data"
    },
    {
     "data": {
      "text/html": [
       "0"
      ],
      "text/latex": [
       "0"
      ],
      "text/markdown": [
       "0"
      ],
      "text/plain": [
       "[1] 0"
      ]
     },
     "metadata": {},
     "output_type": "display_data"
    }
   ],
   "source": [
    "# A vector of integers (from 1:k) indicating the cluster to which each point is allocated.\n",
    "fit.kmeans2$cluster\n",
    "# A matrix of cluster centres.ex in the 1st line, column Fresh -0.05283636 standard deviations above the mean of the variable Fresh.\n",
    "fit.kmeans2$centers\n",
    "#The total sum of squares|| the smaller the value, the better the model's ability to explain variation in the data\n",
    "fit.kmeans2$totss\n",
    "# The total sum of squares|| the smaller the value, the better the model's ability to explain variation in the data\n",
    "fit.kmeans2$totss\n",
    "# Vector of within-cluster sum of squares, one component per cluster.||The smaller the value, the more compact the cluster.\n",
    "fit.kmeans2$withinss\n",
    "# The between-cluster sum of squares, i.e. totss-tot.withinss.||The greater the betweenss value, the greater the separation between the clusters and, therefore, the better the clustering result.\n",
    "fit.kmeans2$betweenss\n",
    "# The number of points in each cluster.\n",
    "fit.kmeans2$size\n",
    "# The number of (outer) iterations || number of times the algorithm updated the centroids before arriving at a solution\n",
    "fit.kmeans2$iter\n",
    "# Integer: indicator of a possible algorithm problem – for experts.||If ifault = 0, it indicates that the solution has converged, while a non-zero value indicates that the solution has not converged.\n",
    "fit.kmeans2$ifault"
   ]
  },
  {
   "cell_type": "markdown",
   "metadata": {},
   "source": [
    "## k=3"
   ]
  },
  {
   "cell_type": "code",
   "execution_count": 7,
   "metadata": {
    "vscode": {
     "languageId": "r"
    }
   },
   "outputs": [
    {
     "data": {
      "text/html": [
       "<table class=\"dataframe\">\n",
       "<caption>A matrix: 3 × 6 of type dbl</caption>\n",
       "<thead>\n",
       "\t<tr><th></th><th scope=col>Fresh</th><th scope=col>Milk</th><th scope=col>Grocery</th><th scope=col>Frozen</th><th scope=col>Detergents_Paper</th><th scope=col>Delicassen</th></tr>\n",
       "</thead>\n",
       "<tbody>\n",
       "\t<tr><th scope=row>1</th><td> 0.004950908</td><td>-0.2277887</td><td>-0.2542638</td><td>-0.02703683</td><td>-0.2486071</td><td>-0.08005229</td></tr>\n",
       "\t<tr><th scope=row>2</th><td>-0.306069120</td><td> 1.8098555</td><td> 2.2038591</td><td>-0.24975466</td><td> 2.2309315</td><td> 0.25139852</td></tr>\n",
       "\t<tr><th scope=row>3</th><td> 3.840444845</td><td> 3.2957757</td><td> 0.9852919</td><td> 7.20489292</td><td>-0.1527927</td><td> 6.79967230</td></tr>\n",
       "</tbody>\n",
       "</table>\n"
      ],
      "text/latex": [
       "A matrix: 3 × 6 of type dbl\n",
       "\\begin{tabular}{r|llllll}\n",
       "  & Fresh & Milk & Grocery & Frozen & Detergents\\_Paper & Delicassen\\\\\n",
       "\\hline\n",
       "\t1 &  0.004950908 & -0.2277887 & -0.2542638 & -0.02703683 & -0.2486071 & -0.08005229\\\\\n",
       "\t2 & -0.306069120 &  1.8098555 &  2.2038591 & -0.24975466 &  2.2309315 &  0.25139852\\\\\n",
       "\t3 &  3.840444845 &  3.2957757 &  0.9852919 &  7.20489292 & -0.1527927 &  6.79967230\\\\\n",
       "\\end{tabular}\n"
      ],
      "text/markdown": [
       "\n",
       "A matrix: 3 × 6 of type dbl\n",
       "\n",
       "| <!--/--> | Fresh | Milk | Grocery | Frozen | Detergents_Paper | Delicassen |\n",
       "|---|---|---|---|---|---|---|\n",
       "| 1 |  0.004950908 | -0.2277887 | -0.2542638 | -0.02703683 | -0.2486071 | -0.08005229 |\n",
       "| 2 | -0.306069120 |  1.8098555 |  2.2038591 | -0.24975466 |  2.2309315 |  0.25139852 |\n",
       "| 3 |  3.840444845 |  3.2957757 |  0.9852919 |  7.20489292 | -0.1527927 |  6.79967230 |\n",
       "\n"
      ],
      "text/plain": [
       "  Fresh        Milk       Grocery    Frozen      Detergents_Paper Delicassen \n",
       "1  0.004950908 -0.2277887 -0.2542638 -0.02703683 -0.2486071       -0.08005229\n",
       "2 -0.306069120  1.8098555  2.2038591 -0.24975466  2.2309315        0.25139852\n",
       "3  3.840444845  3.2957757  0.9852919  7.20489292 -0.1527927        6.79967230"
      ]
     },
     "metadata": {},
     "output_type": "display_data"
    },
    {
     "data": {
      "text/html": [
       "2634"
      ],
      "text/latex": [
       "2634"
      ],
      "text/markdown": [
       "2634"
      ],
      "text/plain": [
       "[1] 2634"
      ]
     },
     "metadata": {},
     "output_type": "display_data"
    },
    {
     "data": {
      "text/html": [
       "<style>\n",
       ".list-inline {list-style: none; margin:0; padding: 0}\n",
       ".list-inline>li {display: inline-block}\n",
       ".list-inline>li:not(:last-child)::after {content: \"\\00b7\"; padding: 0 .5ex}\n",
       "</style>\n",
       "<ol class=list-inline><li>944.829089110147</li><li>441.002100204004</li><li>214.539618813669</li></ol>\n"
      ],
      "text/latex": [
       "\\begin{enumerate*}\n",
       "\\item 944.829089110147\n",
       "\\item 441.002100204004\n",
       "\\item 214.539618813669\n",
       "\\end{enumerate*}\n"
      ],
      "text/markdown": [
       "1. 944.829089110147\n",
       "2. 441.002100204004\n",
       "3. 214.539618813669\n",
       "\n",
       "\n"
      ],
      "text/plain": [
       "[1] 944.8291 441.0021 214.5396"
      ]
     },
     "metadata": {},
     "output_type": "display_data"
    },
    {
     "data": {
      "text/html": [
       "1600.37080812782"
      ],
      "text/latex": [
       "1600.37080812782"
      ],
      "text/markdown": [
       "1600.37080812782"
      ],
      "text/plain": [
       "[1] 1600.371"
      ]
     },
     "metadata": {},
     "output_type": "display_data"
    },
    {
     "data": {
      "text/html": [
       "1033.62919187218"
      ],
      "text/latex": [
       "1033.62919187218"
      ],
      "text/markdown": [
       "1033.62919187218"
      ],
      "text/plain": [
       "[1] 1033.629"
      ]
     },
     "metadata": {},
     "output_type": "display_data"
    },
    {
     "data": {
      "text/html": [
       "<style>\n",
       ".list-inline {list-style: none; margin:0; padding: 0}\n",
       ".list-inline>li {display: inline-block}\n",
       ".list-inline>li:not(:last-child)::after {content: \"\\00b7\"; padding: 0 .5ex}\n",
       "</style>\n",
       "<ol class=list-inline><li>393</li><li>44</li><li>3</li></ol>\n"
      ],
      "text/latex": [
       "\\begin{enumerate*}\n",
       "\\item 393\n",
       "\\item 44\n",
       "\\item 3\n",
       "\\end{enumerate*}\n"
      ],
      "text/markdown": [
       "1. 393\n",
       "2. 44\n",
       "3. 3\n",
       "\n",
       "\n"
      ],
      "text/plain": [
       "[1] 393  44   3"
      ]
     },
     "metadata": {},
     "output_type": "display_data"
    },
    {
     "data": {
      "text/html": [
       "2"
      ],
      "text/latex": [
       "2"
      ],
      "text/markdown": [
       "2"
      ],
      "text/plain": [
       "[1] 2"
      ]
     },
     "metadata": {},
     "output_type": "display_data"
    },
    {
     "data": {
      "text/html": [
       "0"
      ],
      "text/latex": [
       "0"
      ],
      "text/markdown": [
       "0"
      ],
      "text/plain": [
       "[1] 0"
      ]
     },
     "metadata": {},
     "output_type": "display_data"
    }
   ],
   "source": [
    "k3_clusters <- 3\n",
    "set.seed(222)\n",
    "fit.kmeans3 <- kmeans(wholesale.std,\n",
    "                     centers = k3_clusters,\n",
    "                     nstart = 100,\n",
    "                     iter.max = 100)\n",
    "fit.kmeans3$centers\n",
    "fit.kmeans3$totss\n",
    "fit.kmeans3$withinss\n",
    "fit.kmeans3$tot.withinss\n",
    "fit.kmeans3$betweenss\n",
    "fit.kmeans3$size\n",
    "fit.kmeans3$iter\n",
    "fit.kmeans3$ifault"
   ]
  },
  {
   "cell_type": "markdown",
   "metadata": {},
   "source": [
    "## k=4 "
   ]
  },
  {
   "cell_type": "code",
   "execution_count": 8,
   "metadata": {
    "vscode": {
     "languageId": "r"
    }
   },
   "outputs": [
    {
     "data": {
      "text/html": [
       "<table class=\"dataframe\">\n",
       "<caption>A matrix: 4 × 6 of type dbl</caption>\n",
       "<thead>\n",
       "\t<tr><th></th><th scope=col>Fresh</th><th scope=col>Milk</th><th scope=col>Grocery</th><th scope=col>Frozen</th><th scope=col>Detergents_Paper</th><th scope=col>Delicassen</th></tr>\n",
       "</thead>\n",
       "<tbody>\n",
       "\t<tr><th scope=row>1</th><td> 3.1644391</td><td> 3.5092697</td><td> 1.1090489</td><td> 5.510889477</td><td>-0.03827575</td><td> 6.42932569</td></tr>\n",
       "\t<tr><th scope=row>2</th><td>-0.5032309</td><td> 0.5742677</td><td> 0.8222890</td><td>-0.332534148</td><td> 0.81514988</td><td> 0.07543838</td></tr>\n",
       "\t<tr><th scope=row>3</th><td> 0.1232167</td><td>-0.3653209</td><td>-0.4314612</td><td> 0.044915980</td><td>-0.42532298</td><td>-0.12292750</td></tr>\n",
       "\t<tr><th scope=row>4</th><td> 0.3134735</td><td> 3.9174467</td><td> 4.2707490</td><td>-0.003570131</td><td> 4.61291490</td><td> 0.50279301</td></tr>\n",
       "</tbody>\n",
       "</table>\n"
      ],
      "text/latex": [
       "A matrix: 4 × 6 of type dbl\n",
       "\\begin{tabular}{r|llllll}\n",
       "  & Fresh & Milk & Grocery & Frozen & Detergents\\_Paper & Delicassen\\\\\n",
       "\\hline\n",
       "\t1 &  3.1644391 &  3.5092697 &  1.1090489 &  5.510889477 & -0.03827575 &  6.42932569\\\\\n",
       "\t2 & -0.5032309 &  0.5742677 &  0.8222890 & -0.332534148 &  0.81514988 &  0.07543838\\\\\n",
       "\t3 &  0.1232167 & -0.3653209 & -0.4314612 &  0.044915980 & -0.42532298 & -0.12292750\\\\\n",
       "\t4 &  0.3134735 &  3.9174467 &  4.2707490 & -0.003570131 &  4.61291490 &  0.50279301\\\\\n",
       "\\end{tabular}\n"
      ],
      "text/markdown": [
       "\n",
       "A matrix: 4 × 6 of type dbl\n",
       "\n",
       "| <!--/--> | Fresh | Milk | Grocery | Frozen | Detergents_Paper | Delicassen |\n",
       "|---|---|---|---|---|---|---|\n",
       "| 1 |  3.1644391 |  3.5092697 |  1.1090489 |  5.510889477 | -0.03827575 |  6.42932569 |\n",
       "| 2 | -0.5032309 |  0.5742677 |  0.8222890 | -0.332534148 |  0.81514988 |  0.07543838 |\n",
       "| 3 |  0.1232167 | -0.3653209 | -0.4314612 |  0.044915980 | -0.42532298 | -0.12292750 |\n",
       "| 4 |  0.3134735 |  3.9174467 |  4.2707490 | -0.003570131 |  4.61291490 |  0.50279301 |\n",
       "\n"
      ],
      "text/plain": [
       "  Fresh      Milk       Grocery    Frozen       Detergents_Paper Delicassen \n",
       "1  3.1644391  3.5092697  1.1090489  5.510889477 -0.03827575       6.42932569\n",
       "2 -0.5032309  0.5742677  0.8222890 -0.332534148  0.81514988       0.07543838\n",
       "3  0.1232167 -0.3653209 -0.4314612  0.044915980 -0.42532298      -0.12292750\n",
       "4  0.3134735  3.9174467  4.2707490 -0.003570131  4.61291490       0.50279301"
      ]
     },
     "metadata": {},
     "output_type": "display_data"
    },
    {
     "data": {
      "text/html": [
       "<style>\n",
       ".list-inline {list-style: none; margin:0; padding: 0}\n",
       ".list-inline>li {display: inline-block}\n",
       ".list-inline>li:not(:last-child)::after {content: \"\\00b7\"; padding: 0 .5ex}\n",
       "</style>\n",
       "<ol class=list-inline><li>256.993190582798</li><li>238.13189817026</li><li>664.946101425264</li><li>149.448061636943</li></ol>\n"
      ],
      "text/latex": [
       "\\begin{enumerate*}\n",
       "\\item 256.993190582798\n",
       "\\item 238.13189817026\n",
       "\\item 664.946101425264\n",
       "\\item 149.448061636943\n",
       "\\end{enumerate*}\n"
      ],
      "text/markdown": [
       "1. 256.993190582798\n",
       "2. 238.13189817026\n",
       "3. 664.946101425264\n",
       "4. 149.448061636943\n",
       "\n",
       "\n"
      ],
      "text/plain": [
       "[1] 256.9932 238.1319 664.9461 149.4481"
      ]
     },
     "metadata": {},
     "output_type": "display_data"
    },
    {
     "data": {
      "text/html": [
       "1309.51925181526"
      ],
      "text/latex": [
       "1309.51925181526"
      ],
      "text/markdown": [
       "1309.51925181526"
      ],
      "text/plain": [
       "[1] 1309.519"
      ]
     },
     "metadata": {},
     "output_type": "display_data"
    },
    {
     "data": {
      "text/html": [
       "1324.48074818474"
      ],
      "text/latex": [
       "1324.48074818474"
      ],
      "text/markdown": [
       "1324.48074818474"
      ],
      "text/plain": [
       "[1] 1324.481"
      ]
     },
     "metadata": {},
     "output_type": "display_data"
    },
    {
     "data": {
      "text/html": [
       "<style>\n",
       ".list-inline {list-style: none; margin:0; padding: 0}\n",
       ".list-inline>li {display: inline-block}\n",
       ".list-inline>li:not(:last-child)::after {content: \"\\00b7\"; padding: 0 .5ex}\n",
       "</style>\n",
       "<ol class=list-inline><li>4</li><li>109</li><li>317</li><li>10</li></ol>\n"
      ],
      "text/latex": [
       "\\begin{enumerate*}\n",
       "\\item 4\n",
       "\\item 109\n",
       "\\item 317\n",
       "\\item 10\n",
       "\\end{enumerate*}\n"
      ],
      "text/markdown": [
       "1. 4\n",
       "2. 109\n",
       "3. 317\n",
       "4. 10\n",
       "\n",
       "\n"
      ],
      "text/plain": [
       "[1]   4 109 317  10"
      ]
     },
     "metadata": {},
     "output_type": "display_data"
    },
    {
     "data": {
      "text/html": [
       "3"
      ],
      "text/latex": [
       "3"
      ],
      "text/markdown": [
       "3"
      ],
      "text/plain": [
       "[1] 3"
      ]
     },
     "metadata": {},
     "output_type": "display_data"
    },
    {
     "data": {
      "text/html": [
       "0"
      ],
      "text/latex": [
       "0"
      ],
      "text/markdown": [
       "0"
      ],
      "text/plain": [
       "[1] 0"
      ]
     },
     "metadata": {},
     "output_type": "display_data"
    }
   ],
   "source": [
    "k4_clusters <- 4\n",
    "set.seed(222)\n",
    "fit.kmeans4 <- kmeans(wholesale.std,\n",
    "                     centers = k4_clusters,\n",
    "                     nstart = 100,\n",
    "                     iter.max = 100)\n",
    "fit.kmeans4$centers\n",
    "fit.kmeans4$withinss\n",
    "fit.kmeans4$tot.withinss\n",
    "fit.kmeans4$betweenss\n",
    "fit.kmeans4$size\n",
    "fit.kmeans4$iter\n",
    "fit.kmeans4$ifault"
   ]
  },
  {
   "cell_type": "markdown",
   "metadata": {},
   "source": [
    "Based on the various metrics of models with different \"K\", we could choose a model that makes sense for the problem and for the business."
   ]
  },
  {
   "cell_type": "markdown",
   "metadata": {},
   "source": [
    "-----\n",
    "## Create Clusters on Channel Customers =2"
   ]
  },
  {
   "cell_type": "code",
   "execution_count": 9,
   "metadata": {
    "vscode": {
     "languageId": "r"
    }
   },
   "outputs": [],
   "source": [
    "# Selection of data\n",
    "wholesale.num2 <- wholesale %>% filter(Channel == 2) %>% select(3:8)\n",
    "# standardize the numerical variables\n",
    "wholesale.std2 <- as.data.frame(scale(wholesale.num2)) "
   ]
  },
  {
   "cell_type": "markdown",
   "metadata": {},
   "source": [
    "## Choose the K parameter"
   ]
  },
  {
   "cell_type": "code",
   "execution_count": 10,
   "metadata": {
    "vscode": {
     "languageId": "r"
    }
   },
   "outputs": [
    {
     "data": {
      "image/png": "[encoded data removed]",
      "text/plain": [
       "plot without title"
      ]
     },
     "metadata": {
      "image/png": {
       "height": 480,
       "width": 960
      }
     },
     "output_type": "display_data"
    },
    {
     "data": {
      "image/png": "[encoded data removed]",
      "text/plain": [
       "plot without title"
      ]
     },
     "metadata": {
      "image/png": {
       "height": 480,
       "width": 960
      }
     },
     "output_type": "display_data"
    },
    {
     "data": {
      "image/png": "[encoded data removed]",
      "text/plain": [
       "plot without title"
      ]
     },
     "metadata": {
      "image/png": {
       "height": 480,
       "width": 960
      }
     },
     "output_type": "display_data"
    }
   ],
   "source": [
    "# Determine Number of Clusters\n",
    "factoextra::fviz_nbclust(wholesale.std2, kmeans, method = \"wss\")\n",
    "factoextra::fviz_nbclust(wholesale.std2, kmeans, method = \"silhouette\")\n",
    "factoextra::fviz_nbclust(wholesale.std2, kmeans, method = \"gap_stat\")"
   ]
  },
  {
   "cell_type": "markdown",
   "metadata": {},
   "source": [
    "## Fit K-means model"
   ]
  },
  {
   "cell_type": "code",
   "execution_count": 11,
   "metadata": {
    "vscode": {
     "languageId": "r"
    }
   },
   "outputs": [],
   "source": [
    "# Define number of clusters\n",
    "k2_clusters_chanel <- 2\n",
    "# Execute the k-means algorithm\n",
    "set.seed(222)\n",
    "fit.kmeans2_channel <- kmeans(wholesale.std2,\n",
    "                              centers = k2_clusters_chanel,\n",
    "                              nstart = 100,\n",
    "                              iter.max = 100)"
   ]
  },
  {
   "cell_type": "markdown",
   "metadata": {},
   "source": [
    "## View results"
   ]
  },
  {
   "cell_type": "code",
   "execution_count": 12,
   "metadata": {
    "vscode": {
     "languageId": "r"
    }
   },
   "outputs": [
    {
     "name": "stdout",
     "output_type": "stream",
     "text": [
      "K-means clustering with 2 clusters of sizes 131, 11\n",
      "\n",
      "Cluster means:\n",
      "        Fresh       Milk   Grocery      Frozen Detergents_Paper Delicassen\n",
      "1 -0.07480477 -0.2094794 -0.204003 -0.07378079       -0.2100686 -0.1041745\n",
      "2  0.89085682  2.4947090  2.429490  0.87866210        2.5017262  1.2406237\n",
      "\n",
      "Clustering vector:\n",
      "  [1] 1 1 1 1 1 1 1 1 1 1 1 1 1 1 1 1 2 1 1 1 1 1 1 1 1 1 1 1 2 1 1 1 1 2 1 1 2\n",
      " [38] 1 1 2 1 1 1 1 1 1 1 2 2 2 1 1 1 1 1 1 1 1 1 1 1 1 1 1 1 1 1 1 1 1 1 1 1 1\n",
      " [75] 1 1 1 1 1 1 1 1 1 1 1 2 1 1 1 1 1 1 1 2 1 1 1 1 1 1 1 1 1 1 1 1 1 1 1 1 1\n",
      "[112] 1 1 1 1 2 1 1 1 1 1 1 1 1 1 1 1 1 1 1 1 1 1 1 1 1 1 1 1 1 1 1\n",
      "\n",
      "Within cluster sum of squares by cluster:\n",
      "[1] 400.8665 188.9005\n",
      " (between_SS / total_SS =  30.3 %)\n",
      "\n",
      "Available components:\n",
      "\n",
      "[1] \"cluster\"      \"centers\"      \"totss\"        \"withinss\"     \"tot.withinss\"\n",
      "[6] \"betweenss\"    \"size\"         \"iter\"         \"ifault\"      \n"
     ]
    }
   ],
   "source": [
    "print(fit.kmeans2_channel)"
   ]
  },
  {
   "cell_type": "markdown",
   "metadata": {},
   "source": [
    "## Define number of clusters"
   ]
  },
  {
   "cell_type": "code",
   "execution_count": 13,
   "metadata": {
    "vscode": {
     "languageId": "r"
    }
   },
   "outputs": [],
   "source": [
    "k9_clusters_chanel <- 9\n",
    "set.seed(222)\n",
    "fit.kmeans9_channel <- kmeans(wholesale.std2,\n",
    "                              centers = k9_clusters_chanel,\n",
    "                              nstart = 100,\n",
    "                              iter.max = 100)\n",
    "k5_clusters_chanel <- 5\n",
    "set.seed(222)\n",
    "fit.kmeans5_channel <- kmeans(wholesale.std2,\n",
    "                              centers = k5_clusters_chanel,\n",
    "                              nstart = 100,\n",
    "                              iter.max = 100)\n",
    "k3_clusters_chanel <- 3\n",
    "set.seed(222)\n",
    "fit.kmeans3_channel <- kmeans(wholesale.std2,\n",
    "                              centers = k3_clusters_chanel,\n",
    "                              nstart = 100,\n",
    "                              iter.max = 100)"
   ]
  },
  {
   "cell_type": "markdown",
   "metadata": {},
   "source": [
    "## Compare measures"
   ]
  },
  {
   "cell_type": "code",
   "execution_count": 14,
   "metadata": {
    "vscode": {
     "languageId": "r"
    }
   },
   "outputs": [
    {
     "data": {
      "text/html": [
       "<table class=\"dataframe\">\n",
       "<caption>A data.frame: 4 × 4</caption>\n",
       "<thead>\n",
       "\t<tr><th></th><th scope=col>totss</th><th scope=col>tot.withinss</th><th scope=col>betweenss</th><th scope=col>iter</th></tr>\n",
       "\t<tr><th></th><th scope=col>&lt;dbl&gt;</th><th scope=col>&lt;dbl&gt;</th><th scope=col>&lt;dbl&gt;</th><th scope=col>&lt;int&gt;</th></tr>\n",
       "</thead>\n",
       "<tbody>\n",
       "\t<tr><th scope=row>kmeans2</th><td>846</td><td>589.7670</td><td>256.2330</td><td>1</td></tr>\n",
       "\t<tr><th scope=row>kmeans3</th><td>846</td><td>494.0523</td><td>351.9477</td><td>3</td></tr>\n",
       "\t<tr><th scope=row>kmeans5</th><td>846</td><td>369.6379</td><td>476.3621</td><td>3</td></tr>\n",
       "\t<tr><th scope=row>kmeans9</th><td>846</td><td>225.8352</td><td>620.1648</td><td>4</td></tr>\n",
       "</tbody>\n",
       "</table>\n"
      ],
      "text/latex": [
       "A data.frame: 4 × 4\n",
       "\\begin{tabular}{r|llll}\n",
       "  & totss & tot.withinss & betweenss & iter\\\\\n",
       "  & <dbl> & <dbl> & <dbl> & <int>\\\\\n",
       "\\hline\n",
       "\tkmeans2 & 846 & 589.7670 & 256.2330 & 1\\\\\n",
       "\tkmeans3 & 846 & 494.0523 & 351.9477 & 3\\\\\n",
       "\tkmeans5 & 846 & 369.6379 & 476.3621 & 3\\\\\n",
       "\tkmeans9 & 846 & 225.8352 & 620.1648 & 4\\\\\n",
       "\\end{tabular}\n"
      ],
      "text/markdown": [
       "\n",
       "A data.frame: 4 × 4\n",
       "\n",
       "| <!--/--> | totss &lt;dbl&gt; | tot.withinss &lt;dbl&gt; | betweenss &lt;dbl&gt; | iter &lt;int&gt; |\n",
       "|---|---|---|---|---|\n",
       "| kmeans2 | 846 | 589.7670 | 256.2330 | 1 |\n",
       "| kmeans3 | 846 | 494.0523 | 351.9477 | 3 |\n",
       "| kmeans5 | 846 | 369.6379 | 476.3621 | 3 |\n",
       "| kmeans9 | 846 | 225.8352 | 620.1648 | 4 |\n",
       "\n"
      ],
      "text/plain": [
       "        totss tot.withinss betweenss iter\n",
       "kmeans2 846   589.7670     256.2330  1   \n",
       "kmeans3 846   494.0523     351.9477  3   \n",
       "kmeans5 846   369.6379     476.3621  3   \n",
       "kmeans9 846   225.8352     620.1648  4   "
      ]
     },
     "metadata": {},
     "output_type": "display_data"
    }
   ],
   "source": [
    "data.frame(\n",
    "           totss = c(fit.kmeans2_channel$totss, fit.kmeans3_channel$totss, fit.kmeans5_channel$totss, fit.kmeans9_channel$totss),\n",
    "           tot.withinss = c(fit.kmeans2_channel$tot.withinss,fit.kmeans3_channel$tot.withinss, fit.kmeans5_channel$tot.withinss, fit.kmeans9_channel$tot.withinss),\n",
    "           betweenss = c(fit.kmeans2_channel$betweenss,fit.kmeans3_channel$betweenss, fit.kmeans5_channel$betweenss, fit.kmeans9_channel$betweenss),\n",
    "           iter = c(fit.kmeans2_channel$iter,fit.kmeans3_channel$iter, fit.kmeans5_channel$iter, fit.kmeans9_channel$iter),\n",
    "           row.names = c(\"kmeans2\", \"kmeans3\",\"kmeans5\", \"kmeans9\"))"
   ]
  },
  {
   "cell_type": "markdown",
   "metadata": {},
   "source": [
    "The total sum of squares is the same for all models (846), which indicates that all models captured the same amount of variance.\n",
    "\n",
    "The (tot.withinss) decreases as the number of clusters increases, which is expected since having more clusters allows the model to capture more nuances in the data.\n",
    "\n",
    "The (betweenss) increases as the number of clusters increases, which indicates that there is greater separation between clusters as the number of clusters increases."
   ]
  },
  {
   "cell_type": "markdown",
   "metadata": {},
   "source": [
    "## Compare with BIC e AIC"
   ]
  },
  {
   "cell_type": "code",
   "execution_count": 15,
   "metadata": {
    "vscode": {
     "languageId": "r"
    }
   },
   "outputs": [
    {
     "data": {
      "text/html": [
       "<table class=\"dataframe\">\n",
       "<caption>A data.frame: 3 × 3</caption>\n",
       "<thead>\n",
       "\t<tr><th scope=col>Model</th><th scope=col>BIC</th><th scope=col>AIC</th></tr>\n",
       "\t<tr><th scope=col>&lt;chr&gt;</th><th scope=col>&lt;dbl&gt;</th><th scope=col>&lt;dbl&gt;</th></tr>\n",
       "</thead>\n",
       "<tbody>\n",
       "\t<tr><td>kmeans2</td><td>649.2369</td><td>613.7670</td></tr>\n",
       "\t<tr><td>kmeans3</td><td>553.5222</td><td>518.0523</td></tr>\n",
       "\t<tr><td>kmeans5</td><td>518.3127</td><td>429.6379</td></tr>\n",
       "</tbody>\n",
       "</table>\n"
      ],
      "text/latex": [
       "A data.frame: 3 × 3\n",
       "\\begin{tabular}{lll}\n",
       " Model & BIC & AIC\\\\\n",
       " <chr> & <dbl> & <dbl>\\\\\n",
       "\\hline\n",
       "\t kmeans2 & 649.2369 & 613.7670\\\\\n",
       "\t kmeans3 & 553.5222 & 518.0523\\\\\n",
       "\t kmeans5 & 518.3127 & 429.6379\\\\\n",
       "\\end{tabular}\n"
      ],
      "text/markdown": [
       "\n",
       "A data.frame: 3 × 3\n",
       "\n",
       "| Model &lt;chr&gt; | BIC &lt;dbl&gt; | AIC &lt;dbl&gt; |\n",
       "|---|---|---|\n",
       "| kmeans2 | 649.2369 | 613.7670 |\n",
       "| kmeans3 | 553.5222 | 518.0523 |\n",
       "| kmeans5 | 518.3127 | 429.6379 |\n",
       "\n"
      ],
      "text/plain": [
       "  Model   BIC      AIC     \n",
       "1 kmeans2 649.2369 613.7670\n",
       "2 kmeans3 553.5222 518.0523\n",
       "3 kmeans5 518.3127 429.6379"
      ]
     },
     "metadata": {},
     "output_type": "display_data"
    }
   ],
   "source": [
    "library(stats)\n",
    "# Calculate BIC and AIC for k-means model with 2 clusters\n",
    "n2 <- nrow(wholesale.num2)\n",
    "k2 <- 2 * ncol(wholesale.num2) # number of parameters\n",
    "loglik2 <- -fit.kmeans2_channel$tot.withinss / 2 # log-likelihood\n",
    "bic2 <- log(n2) * k2 - 2 * loglik2\n",
    "aic2 <- 2 * k2 - 2 * loglik2\n",
    "\n",
    "# Calculate BIC and AIC for k-means model with 3 clusters\n",
    "n3 <- nrow(wholesale.num2)\n",
    "k3 <- 3 * ncol(wholesale.num2) # number of parameters\n",
    "loglik3 <- -fit.kmeans3_channel$tot.withinss / 2 # log-likelihood\n",
    "bic3 <- log(n2) * k2 - 2 * loglik3\n",
    "aic3 <- 2 * k2 - 2 * loglik3\n",
    "\n",
    "# Calculate BIC and AIC for k-means model with 5 clusters\n",
    "n5 <- nrow(wholesale.num2)\n",
    "k5 <- 5 * ncol(wholesale.num2) # number of parameters\n",
    "loglik5 <- -fit.kmeans5_channel$tot.withinss / 2 # log-likelihood\n",
    "bic5 <- log(n5) * k5 - 2 * loglik5\n",
    "aic5 <- 2 * k5 - 2 * loglik5\n",
    "\n",
    "# Create a data frame with BIC and AIC values\n",
    "bic_aic_table <- data.frame(\n",
    "  Model = c(\"kmeans2\", \"kmeans3\", \"kmeans5\"),\n",
    "  BIC = c(bic2, bic3, bic5),\n",
    "  AIC = c(aic2, aic3, aic5)\n",
    ")\n",
    "\n",
    "# Print the table\n",
    "bic_aic_table"
   ]
  },
  {
   "cell_type": "markdown",
   "metadata": {},
   "source": [
    "Based on these values, we can see that the kmeans5 model has a lower BIC and AIC value, which suggests that it is a better fit for the data.\n",
    "\n",
    "***Model choice, it depends on the context of the problem and the interpretability of the clusters.***"
   ]
  }
 ],
 "metadata": {
  "kernelspec": {
   "display_name": "R",
   "language": "R",
   "name": "ir"
  },
  "language_info": {
   "codemirror_mode": "r",
   "file_extension": ".r",
   "mimetype": "text/x-r-source",
   "name": "R",
   "pygments_lexer": "r",
   "version": "4.2.2"
  },
  "orig_nbformat": 4
 },
 "nbformat": 4,
 "nbformat_minor": 2
}
