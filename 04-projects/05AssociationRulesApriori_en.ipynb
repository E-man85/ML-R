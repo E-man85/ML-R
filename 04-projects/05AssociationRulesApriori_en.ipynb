{
 "cells": [
  {
   "cell_type": "markdown",
   "metadata": {},
   "source": [
    "# Association Rules Apriori"
   ]
  },
  {
   "cell_type": "markdown",
   "metadata": {},
   "source": [
    "Considering the set of data from the adult_income.xlsx file. This dataset refers to the 1994 US Census database. \n",
    "\n",
    "Based on the “Adult Income Dataset” from the UCI Machine Learning Repository at https://archive.ics.uci.edu/ml/datasets/adult\n",
    "\n",
    "Tasks:\n",
    "- Explore possible association rules by the Apriori algorithm.\n",
    "\n",
    "- Select and comment on some rules that you consider most relevant, taking into account the respective values ​​of support, confidence and lift\n",
    "\n",
    "Note:\n",
    "- When using a ‘wide’ dataset to create a transaction object, all variables must either be logical or factor. Therefore, it is recommended to:\n",
    "> Discretize all numerical variables (eg. age).\n",
    "> \n",
    "> Discretization can be carried with the function discretize() from package arules.\n",
    "- Factorize all categorical or text variables. Factorization can be carried with function factor from R base.\n",
    "- Set argument format = \"wide\" (default) when generating a transactions object. Argument cols is not needed for this format"
   ]
  },
  {
   "cell_type": "markdown",
   "metadata": {},
   "source": [
    "## Load libraries"
   ]
  },
  {
   "cell_type": "code",
   "execution_count": 11,
   "metadata": {
    "vscode": {
     "languageId": "r"
    }
   },
   "outputs": [],
   "source": [
    "library(arules)\n",
    "library(openxlsx)\n",
    "library(dplyr)\n",
    "library(httr)\n",
    "library(readxl)"
   ]
  },
  {
   "cell_type": "markdown",
   "metadata": {},
   "source": [
    "## Load dataset"
   ]
  },
  {
   "cell_type": "code",
   "execution_count": 2,
   "metadata": {
    "vscode": {
     "languageId": "r"
    }
   },
   "outputs": [
    {
     "data": {
      "text/plain": [
       "Response [https://raw.githubusercontent.com/E-man85/ML-R/main/03-data/adult_income.xlsx]\n",
       "  Date: 2023-08-01 16:07\n",
       "  Status: 200\n",
       "  Content-Type: application/octet-stream\n",
       "  Size: 2.03 MB\n",
       "<ON DISK>  C:\\Users\\Egomes\\AppData\\Local\\Temp\\Rtmpw5yGPz\\file54b45e24a23.xlsxNULL"
      ]
     },
     "metadata": {},
     "output_type": "display_data"
    }
   ],
   "source": [
    "# xlsx file URL on GitHub\n",
    "url <- \"https://github.com/E-man85/ML-R/blob/main/03-data/adult_income.xlsx?raw=true\" \n",
    "# Download the file\n",
    "GET(url, write_disk(temp <- tempfile(fileext = \".xlsx\")))\n",
    "# Read the xlsx file\n",
    "data <- read_excel(temp)\n",
    "adult_income <-read.xlsx(temp)"
   ]
  },
  {
   "cell_type": "markdown",
   "metadata": {},
   "source": [
    "## Explore data"
   ]
  },
  {
   "cell_type": "code",
   "execution_count": 3,
   "metadata": {
    "vscode": {
     "languageId": "r"
    }
   },
   "outputs": [
    {
     "name": "stdout",
     "output_type": "stream",
     "text": [
      "'data.frame':\t48842 obs. of  10 variables:\n",
      " $ age           : num  25 38 28 44 18 34 29 63 24 55 ...\n",
      " $ workclass     : chr  \"Private\" \"Private\" \"Local-gov\" \"Private\" ...\n",
      " $ education     : chr  \"11th\" \"HS-grad\" \"Assoc-acdm\" \"Some-college\" ...\n",
      " $ marital.status: chr  \"Never-married\" \"Married-civ-spouse\" \"Married-civ-spouse\" \"Married-civ-spouse\" ...\n",
      " $ occupation    : chr  \"Machine-op-inspct\" \"Farming-fishing\" \"Protective-serv\" \"Machine-op-inspct\" ...\n",
      " $ relationship  : chr  \"Own-child\" \"Husband\" \"Husband\" \"Husband\" ...\n",
      " $ race          : chr  \"Black\" \"White\" \"White\" \"Black\" ...\n",
      " $ gender        : chr  \"Male\" \"Male\" \"Male\" \"Male\" ...\n",
      " $ native.country: chr  \"United-States\" \"United-States\" \"United-States\" \"United-States\" ...\n",
      " $ income        : chr  \"&lt;=50K\" \"&lt;=50K\" \"&gt;50K\" \"&gt;50K\" ...\n"
     ]
    },
    {
     "data": {
      "text/html": [
       "<table class=\"dataframe\">\n",
       "<caption>A data.frame: 6 × 10</caption>\n",
       "<thead>\n",
       "\t<tr><th></th><th scope=col>age</th><th scope=col>workclass</th><th scope=col>education</th><th scope=col>marital.status</th><th scope=col>occupation</th><th scope=col>relationship</th><th scope=col>race</th><th scope=col>gender</th><th scope=col>native.country</th><th scope=col>income</th></tr>\n",
       "\t<tr><th></th><th scope=col>&lt;dbl&gt;</th><th scope=col>&lt;chr&gt;</th><th scope=col>&lt;chr&gt;</th><th scope=col>&lt;chr&gt;</th><th scope=col>&lt;chr&gt;</th><th scope=col>&lt;chr&gt;</th><th scope=col>&lt;chr&gt;</th><th scope=col>&lt;chr&gt;</th><th scope=col>&lt;chr&gt;</th><th scope=col>&lt;chr&gt;</th></tr>\n",
       "</thead>\n",
       "<tbody>\n",
       "\t<tr><th scope=row>1</th><td>25</td><td><span style=white-space:pre-wrap>Private  </span></td><td><span style=white-space:pre-wrap>11th        </span></td><td><span style=white-space:pre-wrap>Never-married     </span></td><td>Machine-op-inspct</td><td><span style=white-space:pre-wrap>Own-child    </span></td><td>Black</td><td><span style=white-space:pre-wrap>Male  </span></td><td>United-States</td><td>&amp;lt;=50K</td></tr>\n",
       "\t<tr><th scope=row>2</th><td>38</td><td><span style=white-space:pre-wrap>Private  </span></td><td><span style=white-space:pre-wrap>HS-grad     </span></td><td>Married-civ-spouse</td><td><span style=white-space:pre-wrap>Farming-fishing  </span></td><td><span style=white-space:pre-wrap>Husband      </span></td><td>White</td><td><span style=white-space:pre-wrap>Male  </span></td><td>United-States</td><td>&amp;lt;=50K</td></tr>\n",
       "\t<tr><th scope=row>3</th><td>28</td><td>Local-gov</td><td><span style=white-space:pre-wrap>Assoc-acdm  </span></td><td>Married-civ-spouse</td><td><span style=white-space:pre-wrap>Protective-serv  </span></td><td><span style=white-space:pre-wrap>Husband      </span></td><td>White</td><td><span style=white-space:pre-wrap>Male  </span></td><td>United-States</td><td>&amp;gt;50K </td></tr>\n",
       "\t<tr><th scope=row>4</th><td>44</td><td><span style=white-space:pre-wrap>Private  </span></td><td>Some-college</td><td>Married-civ-spouse</td><td>Machine-op-inspct</td><td><span style=white-space:pre-wrap>Husband      </span></td><td>Black</td><td><span style=white-space:pre-wrap>Male  </span></td><td>United-States</td><td>&amp;gt;50K </td></tr>\n",
       "\t<tr><th scope=row>5</th><td>18</td><td><span style=white-space:pre-wrap>NA       </span></td><td>Some-college</td><td><span style=white-space:pre-wrap>Never-married     </span></td><td><span style=white-space:pre-wrap>NA               </span></td><td><span style=white-space:pre-wrap>Own-child    </span></td><td>White</td><td>Female</td><td>United-States</td><td>&amp;lt;=50K</td></tr>\n",
       "\t<tr><th scope=row>6</th><td>34</td><td><span style=white-space:pre-wrap>Private  </span></td><td><span style=white-space:pre-wrap>10th        </span></td><td><span style=white-space:pre-wrap>Never-married     </span></td><td><span style=white-space:pre-wrap>Other-service    </span></td><td>Not-in-family</td><td>White</td><td><span style=white-space:pre-wrap>Male  </span></td><td>United-States</td><td>&amp;lt;=50K</td></tr>\n",
       "</tbody>\n",
       "</table>\n"
      ],
      "text/latex": [
       "A data.frame: 6 × 10\n",
       "\\begin{tabular}{r|llllllllll}\n",
       "  & age & workclass & education & marital.status & occupation & relationship & race & gender & native.country & income\\\\\n",
       "  & <dbl> & <chr> & <chr> & <chr> & <chr> & <chr> & <chr> & <chr> & <chr> & <chr>\\\\\n",
       "\\hline\n",
       "\t1 & 25 & Private   & 11th         & Never-married      & Machine-op-inspct & Own-child     & Black & Male   & United-States & \\&lt;=50K\\\\\n",
       "\t2 & 38 & Private   & HS-grad      & Married-civ-spouse & Farming-fishing   & Husband       & White & Male   & United-States & \\&lt;=50K\\\\\n",
       "\t3 & 28 & Local-gov & Assoc-acdm   & Married-civ-spouse & Protective-serv   & Husband       & White & Male   & United-States & \\&gt;50K \\\\\n",
       "\t4 & 44 & Private   & Some-college & Married-civ-spouse & Machine-op-inspct & Husband       & Black & Male   & United-States & \\&gt;50K \\\\\n",
       "\t5 & 18 & NA        & Some-college & Never-married      & NA                & Own-child     & White & Female & United-States & \\&lt;=50K\\\\\n",
       "\t6 & 34 & Private   & 10th         & Never-married      & Other-service     & Not-in-family & White & Male   & United-States & \\&lt;=50K\\\\\n",
       "\\end{tabular}\n"
      ],
      "text/markdown": [
       "\n",
       "A data.frame: 6 × 10\n",
       "\n",
       "| <!--/--> | age &lt;dbl&gt; | workclass &lt;chr&gt; | education &lt;chr&gt; | marital.status &lt;chr&gt; | occupation &lt;chr&gt; | relationship &lt;chr&gt; | race &lt;chr&gt; | gender &lt;chr&gt; | native.country &lt;chr&gt; | income &lt;chr&gt; |\n",
       "|---|---|---|---|---|---|---|---|---|---|---|\n",
       "| 1 | 25 | Private   | 11th         | Never-married      | Machine-op-inspct | Own-child     | Black | Male   | United-States | &amp;lt;=50K |\n",
       "| 2 | 38 | Private   | HS-grad      | Married-civ-spouse | Farming-fishing   | Husband       | White | Male   | United-States | &amp;lt;=50K |\n",
       "| 3 | 28 | Local-gov | Assoc-acdm   | Married-civ-spouse | Protective-serv   | Husband       | White | Male   | United-States | &amp;gt;50K  |\n",
       "| 4 | 44 | Private   | Some-college | Married-civ-spouse | Machine-op-inspct | Husband       | Black | Male   | United-States | &amp;gt;50K  |\n",
       "| 5 | 18 | NA        | Some-college | Never-married      | NA                | Own-child     | White | Female | United-States | &amp;lt;=50K |\n",
       "| 6 | 34 | Private   | 10th         | Never-married      | Other-service     | Not-in-family | White | Male   | United-States | &amp;lt;=50K |\n",
       "\n"
      ],
      "text/plain": [
       "  age workclass education    marital.status     occupation        relationship \n",
       "1 25  Private   11th         Never-married      Machine-op-inspct Own-child    \n",
       "2 38  Private   HS-grad      Married-civ-spouse Farming-fishing   Husband      \n",
       "3 28  Local-gov Assoc-acdm   Married-civ-spouse Protective-serv   Husband      \n",
       "4 44  Private   Some-college Married-civ-spouse Machine-op-inspct Husband      \n",
       "5 18  NA        Some-college Never-married      NA                Own-child    \n",
       "6 34  Private   10th         Never-married      Other-service     Not-in-family\n",
       "  race  gender native.country income  \n",
       "1 Black Male   United-States  &lt;=50K\n",
       "2 White Male   United-States  &lt;=50K\n",
       "3 White Male   United-States  &gt;50K \n",
       "4 Black Male   United-States  &gt;50K \n",
       "5 White Female United-States  &lt;=50K\n",
       "6 White Male   United-States  &lt;=50K"
      ]
     },
     "metadata": {},
     "output_type": "display_data"
    }
   ],
   "source": [
    "str(adult_income)\n",
    "head(adult_income)"
   ]
  },
  {
   "cell_type": "markdown",
   "metadata": {},
   "source": [
    "This dataset is presented in ‘wide’ format"
   ]
  },
  {
   "cell_type": "markdown",
   "metadata": {},
   "source": [
    "## Data Preparation"
   ]
  },
  {
   "cell_type": "code",
   "execution_count": 4,
   "metadata": {
    "vscode": {
     "languageId": "r"
    }
   },
   "outputs": [
    {
     "name": "stdout",
     "output_type": "stream",
     "text": [
      "'data.frame':\t48842 obs. of  10 variables:\n",
      " $ age           : Factor w/ 5 levels \"[17,26)\",\"[26,33)\",..: 1 3 2 4 1 3 2 5 1 5 ...\n",
      "  ..- attr(*, \"discretized:breaks\")= num [1:6] 17 26 33 41 51 90\n",
      "  ..- attr(*, \"discretized:method\")= chr \"frequency\"\n",
      " $ workclass     : Factor w/ 8 levels \"Federal-gov\",..: 4 4 2 4 NA 4 NA 6 4 4 ...\n",
      " $ education     : Factor w/ 16 levels \"10th\",\"11th\",..: 2 12 8 16 16 1 12 15 16 6 ...\n",
      " $ marital.status: Factor w/ 7 levels \"Divorced\",\"Married-AF-spouse\",..: 5 3 3 3 5 5 5 3 5 3 ...\n",
      " $ occupation    : Factor w/ 14 levels \"Adm-clerical\",..: 7 5 11 7 NA 8 NA 10 8 3 ...\n",
      " $ relationship  : Factor w/ 6 levels \"Husband\",\"Not-in-family\",..: 4 1 1 1 4 2 5 1 5 1 ...\n",
      " $ race          : Factor w/ 5 levels \"Amer-Indian-Eskimo\",..: 3 5 5 3 5 5 3 5 5 5 ...\n",
      " $ gender        : Factor w/ 2 levels \"Female\",\"Male\": 2 2 2 2 1 2 2 2 1 2 ...\n",
      " $ native.country: Factor w/ 41 levels \"Cambodia\",\"Canada\",..: 39 39 39 39 39 39 39 39 39 39 ...\n",
      " $ income        : Factor w/ 2 levels \"&gt;50K\",\"&lt;=50K\": 2 2 1 1 2 2 2 1 2 2 ...\n"
     ]
    }
   ],
   "source": [
    "# Discretize all numerical variables age\n",
    "adult_income <- adult_income %>% mutate(age=  discretize(adult_income$age, method ='frequency', breaks = 5))\n",
    "# Factorize all categorical or text variables\n",
    "adult_income <- adult_income %>% mutate_if(is.character, as.factor)\n",
    "# Check Variables\n",
    "str(adult_income)"
   ]
  },
  {
   "cell_type": "markdown",
   "metadata": {},
   "source": [
    "## Create transactions matrix containing all transaction"
   ]
  },
  {
   "cell_type": "code",
   "execution_count": 5,
   "metadata": {
    "vscode": {
     "languageId": "r"
    }
   },
   "outputs": [
    {
     "data": {
      "text/plain": [
       "transactions in sparse format with\n",
       " 48842 transactions (rows) and\n",
       " 106 items (columns)"
      ]
     },
     "metadata": {},
     "output_type": "display_data"
    },
    {
     "data": {
      "text/plain": [
       "transactions as itemMatrix in sparse format with\n",
       " 48842 rows (elements/itemsets/transactions) and\n",
       " 106 columns (items) and a density of 0.09309089 \n",
       "\n",
       "most frequent items:\n",
       "native.country=United-States                   race=White \n",
       "                       43832                        41762 \n",
       "             income=&lt;=50K            workclass=Private \n",
       "                       37155                        33906 \n",
       "                 gender=Male                      (Other) \n",
       "                       32650                       292650 \n",
       "\n",
       "element (itemset/transaction) length distribution:\n",
       "sizes\n",
       "    7     8     9    10 \n",
       "   46  2753   821 45222 \n",
       "\n",
       "   Min. 1st Qu.  Median    Mean 3rd Qu.    Max. \n",
       "  7.000  10.000  10.000   9.868  10.000  10.000 \n",
       "\n",
       "includes extended item information - examples:\n",
       "       labels variables  levels\n",
       "1 age=[17,26)       age [17,26)\n",
       "2 age=[26,33)       age [26,33)\n",
       "3 age=[33,41)       age [33,41)\n",
       "\n",
       "includes extended transaction information - examples:\n",
       "  transactionID\n",
       "1             1\n",
       "2             2\n",
       "3             3"
      ]
     },
     "metadata": {},
     "output_type": "display_data"
    }
   ],
   "source": [
    "transactions <- transactions(adult_income,\n",
    "                             format = 'wide')\n",
    "transactions\n",
    "summary(transactions)"
   ]
  },
  {
   "cell_type": "markdown",
   "metadata": {},
   "source": [
    "## Plot the most frequent values in a barplot"
   ]
  },
  {
   "cell_type": "code",
   "execution_count": 6,
   "metadata": {
    "vscode": {
     "languageId": "r"
    }
   },
   "outputs": [
    {
     "data": {
      "image/png": "[encoded data removed]",
      "text/plain": [
       "Plot with title \"Frequência dos 10 itens mais frequentes\""
      ]
     },
     "metadata": {
      "image/png": {
       "height": 480,
       "width": 960
      }
     },
     "output_type": "display_data"
    }
   ],
   "source": [
    "options(repr.plot.width=16, repr.plot.height=8)\n",
    "itemFrequencyPlot(transactions, \n",
    "                  topN = 10,\n",
    "                  horiz = TRUE,\n",
    "                  cex.names = 0.8,\n",
    "                  main = \"Frequência dos 10 itens mais frequentes\",\n",
    "                  xlab = \"Frequência (%)\",\n",
    "                  ylab = \"Itens\")"
   ]
  },
  {
   "cell_type": "markdown",
   "metadata": {},
   "source": [
    "## Mining Associations with the Apriori Algorithm"
   ]
  },
  {
   "cell_type": "code",
   "execution_count": 7,
   "metadata": {
    "vscode": {
     "languageId": "r"
    }
   },
   "outputs": [
    {
     "name": "stdout",
     "output_type": "stream",
     "text": [
      "Apriori\n",
      "\n",
      "Parameter specification:\n",
      " confidence minval smax arem  aval originalSupport maxtime support minlen\n",
      "        0.9    0.1    1 none FALSE            TRUE       5     0.5      2\n",
      " maxlen target  ext\n",
      "     10  rules TRUE\n",
      "\n",
      "Algorithmic control:\n",
      " filter tree heap memopt load sort verbose\n",
      "    0.1 TRUE TRUE  FALSE TRUE    2    TRUE\n",
      "\n",
      "Absolute minimum support count: 24421 \n",
      "\n",
      "set item appearances ...[0 item(s)] done [0.00s].\n",
      "set transactions ...[106 item(s), 48842 transaction(s)] done [0.02s].\n",
      "sorting and recoding items ... [5 item(s)] done [0.00s].\n",
      "creating transaction tree ... done [0.01s].\n",
      "checking subsets of size 1 2 3 done [0.00s].\n",
      "writing ... [5 rule(s)] done [0.00s].\n",
      "creating S4 object  ... done [0.00s].\n"
     ]
    },
    {
     "data": {
      "text/plain": [
       "set of 5 rules\n",
       "\n",
       "rule length distribution (lhs + rhs):sizes\n",
       "2 3 \n",
       "1 4 \n",
       "\n",
       "   Min. 1st Qu.  Median    Mean 3rd Qu.    Max. \n",
       "    2.0     3.0     3.0     2.8     3.0     3.0 \n",
       "\n",
       "summary of quality measures:\n",
       "    support         confidence        coverage           lift      \n",
       " Min.   :0.5415   Min.   :0.9051   Min.   :0.5883   Min.   :1.019  \n",
       " 1st Qu.:0.5415   1st Qu.:0.9144   1st Qu.:0.5942   1st Qu.:1.019  \n",
       " Median :0.5434   Median :0.9148   Median :0.5983   Median :1.026  \n",
       " Mean   :0.5996   Mean   :0.9153   Mean   :0.6548   Mean   :1.030  \n",
       " 3rd Qu.:0.5835   3rd Qu.:0.9205   3rd Qu.:0.6379   3rd Qu.:1.027  \n",
       " Max.   :0.7881   Max.   :0.9217   Max.   :0.8550   Max.   :1.059  \n",
       "     count      \n",
       " Min.   :26450  \n",
       " 1st Qu.:26450  \n",
       " Median :26540  \n",
       " Mean   :29287  \n",
       " 3rd Qu.:28501  \n",
       " Max.   :38493  \n",
       "\n",
       "mining info:\n",
       "         data ntransactions support confidence\n",
       " transactions         48842     0.5        0.9\n",
       "                                                                               call\n",
       " apriori(data = transactions, parameter = list(supp = 0.5, conf = 0.9, minlen = 2))"
      ]
     },
     "metadata": {},
     "output_type": "display_data"
    }
   ],
   "source": [
    "rules_90_conf <- apriori(data= transactions,\n",
    "                   parameter = list(supp = 0.5, #rules that occur in at least 50% of the transactions\n",
    "                                    conf = 0.9, #have a confidence of at least 90%\n",
    "                                    minlen= 2 #minimum length of values\n",
    "                                    ))\n",
    "summary(rules_90_conf)                                   "
   ]
  },
  {
   "cell_type": "markdown",
   "metadata": {},
   "source": [
    "## Sort rules by descending metric of interest, and inspect the top n few."
   ]
  },
  {
   "cell_type": "code",
   "execution_count": 8,
   "metadata": {
    "vscode": {
     "languageId": "r"
    }
   },
   "outputs": [
    {
     "name": "stdout",
     "output_type": "stream",
     "text": [
      "    lhs                               rhs                            support confidence coverage  lift count\n",
      "[1] {race=White}                   => {native.country=United-States}  0.7881     0.9217   0.8550 1.027 38493\n",
      "[2] {race=White,                                                                                            \n",
      "     gender=Male}                  => {native.country=United-States}  0.5415     0.9205   0.5883 1.026 26450\n",
      "[3] {gender=Male,                                                                                           \n",
      "     native.country=United-States} => {race=White}                    0.5415     0.9051   0.5983 1.059 26450\n",
      "[4] {workclass=Private,                                                                                     \n",
      "     race=White}                   => {native.country=United-States}  0.5434     0.9144   0.5942 1.019 26540\n",
      "[5] {race=White,                                                                                            \n",
      "     income=&lt;=50K}              => {native.country=United-States}  0.5835     0.9148   0.6379 1.019 28501\n"
     ]
    }
   ],
   "source": [
    "#Inspect the 5 roles with 90% conf\n",
    "options(digits=4)\n",
    "inspect(rules_90_conf[1:5])"
   ]
  },
  {
   "cell_type": "markdown",
   "metadata": {},
   "source": [
    "With 90% confidence, the algorithm generated 5 association rules with a minimum of 2 values, 1 has length 2 (1 antecedent and 1 consequent) and 4 have length 3 (2 antecedents and 1 consequent).\n",
    "\n",
    "In the first rule {race=White} =>{native.country=United-States}, 78.81% (support) of transactions appear.\n",
    "\n",
    "Confidence 92.17% which means that when {race=White} occurs in a {native.country=United-States} transaction.\n",
    "\n",
    "Proportion of transactions that contain the antecedent(converge) means that {race=White} occurs in about 85.50% of transactions.\n",
    "\n",
    "Lift of 1027, which means that the occurrence of {race=White} increases the probability of {native.country=United-States} by 1.027 times."
   ]
  },
  {
   "cell_type": "code",
   "execution_count": 9,
   "metadata": {
    "vscode": {
     "languageId": "r"
    }
   },
   "outputs": [
    {
     "name": "stdout",
     "output_type": "stream",
     "text": [
      "Apriori\n",
      "\n",
      "Parameter specification:\n",
      " confidence minval smax arem  aval originalSupport maxtime support minlen\n",
      "        0.6    0.1    1 none FALSE            TRUE       5     0.5      2\n",
      " maxlen target  ext\n",
      "     10  rules TRUE\n",
      "\n",
      "Algorithmic control:\n",
      " filter tree heap memopt load sort verbose\n",
      "    0.1 TRUE TRUE  FALSE TRUE    2    TRUE\n",
      "\n",
      "Absolute minimum support count: 24421 \n",
      "\n",
      "set item appearances ...[0 item(s)] done [0.00s].\n",
      "set transactions ...[106 item(s), 48842 transaction(s)] done [0.03s].\n",
      "sorting and recoding items ... [5 item(s)] done [0.00s].\n",
      "creating transaction tree ... done [0.01s].\n",
      "checking subsets of size 1 2 3 done [0.00s].\n",
      "writing ... [25 rule(s)] done [0.00s].\n",
      "creating S4 object  ... done [0.00s].\n"
     ]
    },
    {
     "data": {
      "text/plain": [
       "set of 25 rules\n",
       "\n",
       "rule length distribution (lhs + rhs):sizes\n",
       " 2  3 \n",
       "16  9 \n",
       "\n",
       "   Min. 1st Qu.  Median    Mean 3rd Qu.    Max. \n",
       "   2.00    2.00    2.00    2.36    3.00    3.00 \n",
       "\n",
       "summary of quality measures:\n",
       "    support        confidence       coverage          lift      \n",
       " Min.   :0.541   Min.   :0.667   Min.   :0.588   Min.   :0.973  \n",
       " 1st Qu.:0.543   1st Qu.:0.714   1st Qu.:0.668   1st Qu.:0.994  \n",
       " Median :0.588   Median :0.856   Median :0.761   Median :1.006  \n",
       " Mean   :0.604   Mean   :0.812   Mean   :0.752   Mean   :1.010  \n",
       " 3rd Qu.:0.617   3rd Qu.:0.892   3rd Qu.:0.855   3rd Qu.:1.028  \n",
       " Max.   :0.788   Max.   :0.922   Max.   :0.897   Max.   :1.059  \n",
       "     count      \n",
       " Min.   :26450  \n",
       " 1st Qu.:26540  \n",
       " Median :28735  \n",
       " Mean   :29493  \n",
       " 3rd Qu.:30145  \n",
       " Max.   :38493  \n",
       "\n",
       "mining info:\n",
       "         data ntransactions support confidence\n",
       " transactions         48842     0.5        0.6\n",
       "                                                                               call\n",
       " apriori(data = transactions, parameter = list(supp = 0.5, conf = 0.6, minlen = 2))"
      ]
     },
     "metadata": {},
     "output_type": "display_data"
    },
    {
     "name": "stdout",
     "output_type": "stream",
     "text": [
      "     lhs                                rhs                            support confidence coverage   lift count\n",
      "[1]  {gender=Male,                                                                                             \n",
      "      native.country=United-States}  => {race=White}                    0.5415     0.9051   0.5983 1.0586 26450\n",
      "[2]  {workclass=Private,                                                                                       \n",
      "      native.country=United-States}  => {race=White}                    0.5434     0.8804   0.6172 1.0297 26540\n",
      "[3]  {gender=Male}                   => {race=White}                    0.5883     0.8801   0.6685 1.0293 28735\n",
      "[4]  {race=White}                    => {gender=Male}                   0.5883     0.6881   0.8550 1.0293 28735\n",
      "[5]  {workclass=Private}             => {income=&lt;=50K}               0.5430     0.7821   0.6942 1.0282 26519\n",
      "[6]  {income=&lt;=50K}               => {workclass=Private}             0.5430     0.7137   0.7607 1.0282 26519\n",
      "[7]  {race=White,                                                                                              \n",
      "      native.country=United-States}  => {gender=Male}                   0.5415     0.6871   0.7881 1.0279 26450\n",
      "[8]  {race=White}                    => {native.country=United-States}  0.7881     0.9217   0.8550 1.0271 38493\n",
      "[9]  {native.country=United-States}  => {race=White}                    0.7881     0.8782   0.8974 1.0271 38493\n",
      "[10] {race=White,                                                                                              \n",
      "      gender=Male}                   => {native.country=United-States}  0.5415     0.9205   0.5883 1.0257 26450\n",
      "[11] {race=White,                                                                                              \n",
      "      income=&lt;=50K}               => {native.country=United-States}  0.5835     0.9148   0.6379 1.0194 28501\n",
      "[12] {workclass=Private,                                                                                       \n",
      "      race=White}                    => {native.country=United-States}  0.5434     0.9144   0.5942 1.0189 26540\n",
      "[13] {native.country=United-States,                                                                            \n",
      "      income=&lt;=50K}               => {race=White}                    0.5835     0.8601   0.6785 1.0059 28501\n",
      "[14] {workclass=Private}             => {race=White}                    0.5942     0.8560   0.6942 1.0011 29024\n",
      "[15] {race=White}                    => {workclass=Private}             0.5942     0.6950   0.8550 1.0011 29024\n",
      "[16] {native.country=United-States}  => {gender=Male}                   0.5983     0.6667   0.8974 0.9973 29223\n",
      "[17] {gender=Male}                   => {native.country=United-States}  0.5983     0.8950   0.6685 0.9973 29223\n",
      "[18] {income=&lt;=50K}               => {native.country=United-States}  0.6785     0.8919   0.7607 0.9938 33138\n",
      "[19] {native.country=United-States}  => {income=&lt;=50K}               0.6785     0.7560   0.8974 0.9938 33138\n",
      "[20] {race=White,                                                                                              \n",
      "      native.country=United-States}  => {workclass=Private}             0.5434     0.6895   0.7881 0.9932 26540\n",
      "[21] {workclass=Private}             => {native.country=United-States}  0.6172     0.8891   0.6942 0.9907 30145\n",
      "[22] {native.country=United-States}  => {workclass=Private}             0.6172     0.6877   0.8974 0.9907 30145\n",
      "[23] {income=&lt;=50K}               => {race=White}                    0.6379     0.8385   0.7607 0.9807 31155\n",
      "[24] {race=White}                    => {income=&lt;=50K}               0.6379     0.7460   0.8550 0.9807 31155\n",
      "[25] {race=White,                                                                                              \n",
      "      native.country=United-States}  => {income=&lt;=50K}               0.5835     0.7404   0.7881 0.9733 28501\n"
     ]
    }
   ],
   "source": [
    "rules_60_conf <- apriori(transactions,\n",
    "                   parameter = list(supp = 0.5, #rules that occur in at least 50% of the transactions\n",
    "                                    conf = 0.6, #have a confidence of at least 60%\n",
    "                                    minlen= 2 #minimum length of values\n",
    "                                    ))\n",
    "summary(rules_60_conf) \n",
    "#Inspect the 25 roles with 60% conf\n",
    "rules_60_conf <- sort(rules_60_conf, by = 'lift', decresing = TRUE)\n",
    "inspect(rules_60_conf)                                   "
   ]
  },
  {
   "cell_type": "markdown",
   "metadata": {},
   "source": [
    "Setting the confidence to 60%, the algorithm generated 25 association rules with a minimum of 2 values, 16 have length 2 and 9 have length 3"
   ]
  },
  {
   "cell_type": "code",
   "execution_count": 10,
   "metadata": {
    "vscode": {
     "languageId": "r"
    }
   },
   "outputs": [
    {
     "name": "stdout",
     "output_type": "stream",
     "text": [
      "    lhs                  rhs                 support confidence coverage lift \n",
      "[1] {income=&lt;=50K} => {workclass=Private} 0.543   0.7137     0.7607   1.028\n",
      "    count\n",
      "[1] 26519\n"
     ]
    }
   ],
   "source": [
    "inspect(rules_60_conf[6])"
   ]
  },
  {
   "cell_type": "markdown",
   "metadata": {},
   "source": [
    "Analyzing rule 6:\n",
    "\n",
    "Support- 54.3% of registrations have the condition {income=<=50K} => {workclass=Private}.\n",
    "\n",
    "A confidence - if the antecedent is true {income=<=50K} , the probability of the person working in a private company is 71.37%.\n",
    "\n",
    "A converges - applies to 76.07% of records.\n",
    "\n",
    "The lift is 1.028, which indicates that the person is 1.028 times more likely to work in a private company when the antecedent condition is true.\n",
    "\n",
    "We can say that whenever a person's income is {income=<=50K} then they are likely to work {workclass=Private}."
   ]
  }
 ],
 "metadata": {
  "kernelspec": {
   "display_name": "R",
   "language": "R",
   "name": "ir"
  },
  "language_info": {
   "codemirror_mode": "r",
   "file_extension": ".r",
   "mimetype": "text/x-r-source",
   "name": "R",
   "pygments_lexer": "r",
   "version": "4.2.2"
  },
  "orig_nbformat": 4
 },
 "nbformat": 4,
 "nbformat_minor": 2
}
